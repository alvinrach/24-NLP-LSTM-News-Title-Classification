{
  "nbformat": 4,
  "nbformat_minor": 0,
  "metadata": {
    "colab": {
      "provenance": [],
      "include_colab_link": true
    },
    "kernelspec": {
      "name": "python3",
      "display_name": "Python 3"
    },
    "language_info": {
      "name": "python"
    },
    "accelerator": "GPU"
  },
  "cells": [
    {
      "cell_type": "markdown",
      "metadata": {
        "id": "view-in-github",
        "colab_type": "text"
      },
      "source": [
        "<a href=\"https://colab.research.google.com/github/alvinrach/24-NLP-LSTM-News-Title-Classification/blob/main/NLP_LSTM_(PyTorch)_News_Title_Classification_Alvin_Rachmat.ipynb\" target=\"_parent\"><img src=\"https://colab.research.google.com/assets/colab-badge.svg\" alt=\"Open In Colab\"/></a>"
      ]
    },
    {
      "cell_type": "markdown",
      "metadata": {
        "id": "NfFTCr13iH2h"
      },
      "source": [
        "**Alvin Rachmat**\n",
        "\n",
        "**NLP-LSTM : News Title Classification**"
      ]
    },
    {
      "cell_type": "code",
      "metadata": {
        "id": "hry5pZp6BbW_",
        "colab": {
          "base_uri": "https://localhost:8080/"
        },
        "outputId": "94eb9cb6-a188-402a-9cba-25f73895ab7c"
      },
      "source": [
        "import pandas as pd\n",
        "import numpy as np\n",
        "import tensorflow as tf\n",
        "\n",
        "!pip install contractions\n",
        "import re\n",
        "import contractions\n",
        "import nltk\n",
        "nltk.download('stopwords')\n",
        "\n",
        "from tensorflow.keras.preprocessing.text import Tokenizer\n",
        "from tensorflow.keras.preprocessing.sequence import pad_sequences\n",
        "from sklearn.model_selection import train_test_split\n",
        "\n",
        "import matplotlib.pyplot as plt"
      ],
      "execution_count": 3,
      "outputs": [
        {
          "output_type": "stream",
          "name": "stdout",
          "text": [
            "Requirement already satisfied: contractions in /usr/local/lib/python3.10/dist-packages (0.1.73)\n",
            "Requirement already satisfied: textsearch>=0.0.21 in /usr/local/lib/python3.10/dist-packages (from contractions) (0.0.24)\n",
            "Requirement already satisfied: anyascii in /usr/local/lib/python3.10/dist-packages (from textsearch>=0.0.21->contractions) (0.3.2)\n",
            "Requirement already satisfied: pyahocorasick in /usr/local/lib/python3.10/dist-packages (from textsearch>=0.0.21->contractions) (2.1.0)\n"
          ]
        },
        {
          "output_type": "stream",
          "name": "stderr",
          "text": [
            "[nltk_data] Downloading package stopwords to /root/nltk_data...\n",
            "[nltk_data]   Package stopwords is already up-to-date!\n"
          ]
        }
      ]
    },
    {
      "cell_type": "code",
      "metadata": {
        "id": "um1CSW28BfES",
        "colab": {
          "base_uri": "https://localhost:8080/"
        },
        "outputId": "3f607efe-00c8-4c17-f3ed-9d1f4507a2f3"
      },
      "source": [
        "url = 'https://drive.google.com/file/d/1GRg1E-3eYkTwMkaFEy4khaTSeoboSOw5/view?usp=sharing'\n",
        "dwn_url = 'https://drive.google.com/uc?id=' + url.split('/')[-2]\n",
        "d = pd.read_excel(dwn_url)\n",
        "len(d)"
      ],
      "execution_count": 4,
      "outputs": [
        {
          "output_type": "execute_result",
          "data": {
            "text/plain": [
              "65535"
            ]
          },
          "metadata": {},
          "execution_count": 4
        }
      ]
    },
    {
      "cell_type": "markdown",
      "metadata": {
        "id": "poFUWiWZBi_r"
      },
      "source": [
        "Just use some of the data, since there is a bug of LSTM which in a certain amount point of data, will result error (in my plain jupyter) or will result in extremely significant raise of train time (colab)\n",
        "https://github.com/tensorflow/tensorflow/issues/33721"
      ]
    },
    {
      "cell_type": "code",
      "metadata": {
        "colab": {
          "base_uri": "https://localhost:8080/",
          "height": 423
        },
        "id": "575a5481",
        "outputId": "998472d1-c82a-4c24-f6db-db13894cfcdc"
      },
      "source": [
        "d=d.iloc[:52000,:]\n",
        "d = d.drop('No', axis=1)\n",
        "d"
      ],
      "execution_count": 5,
      "outputs": [
        {
          "output_type": "execute_result",
          "data": {
            "text/plain": [
              "                                              News Title       Category\n",
              "0      Google+ rolls out 'Stories' for tricked out ph...     Technology\n",
              "1                        Dov Charney's Redeeming Quality       Business\n",
              "2       White God adds Un Certain Regard to the Palm Dog  Entertainment\n",
              "3      Google shows off Androids for wearables, cars,...     Technology\n",
              "4             China May new bank loans at 870.8 bln yuan       Business\n",
              "...                                                  ...            ...\n",
              "51995  MH370: poor conditions hamper search for debri...       Business\n",
              "51996                  Tech stocks, Nasdaq take a tumble       Business\n",
              "51997  Climate Action Plan - Strategy to Cut Methane ...       Business\n",
              "51998  Breakthrough: Living materials created by MIT ...     Technology\n",
              "51999  Kate Middleton's bare bottom has been photogra...  Entertainment\n",
              "\n",
              "[52000 rows x 2 columns]"
            ],
            "text/html": [
              "\n",
              "  <div id=\"df-ffcb77a5-0da1-4389-9f2c-48aab3500844\" class=\"colab-df-container\">\n",
              "    <div>\n",
              "<style scoped>\n",
              "    .dataframe tbody tr th:only-of-type {\n",
              "        vertical-align: middle;\n",
              "    }\n",
              "\n",
              "    .dataframe tbody tr th {\n",
              "        vertical-align: top;\n",
              "    }\n",
              "\n",
              "    .dataframe thead th {\n",
              "        text-align: right;\n",
              "    }\n",
              "</style>\n",
              "<table border=\"1\" class=\"dataframe\">\n",
              "  <thead>\n",
              "    <tr style=\"text-align: right;\">\n",
              "      <th></th>\n",
              "      <th>News Title</th>\n",
              "      <th>Category</th>\n",
              "    </tr>\n",
              "  </thead>\n",
              "  <tbody>\n",
              "    <tr>\n",
              "      <th>0</th>\n",
              "      <td>Google+ rolls out 'Stories' for tricked out ph...</td>\n",
              "      <td>Technology</td>\n",
              "    </tr>\n",
              "    <tr>\n",
              "      <th>1</th>\n",
              "      <td>Dov Charney's Redeeming Quality</td>\n",
              "      <td>Business</td>\n",
              "    </tr>\n",
              "    <tr>\n",
              "      <th>2</th>\n",
              "      <td>White God adds Un Certain Regard to the Palm Dog</td>\n",
              "      <td>Entertainment</td>\n",
              "    </tr>\n",
              "    <tr>\n",
              "      <th>3</th>\n",
              "      <td>Google shows off Androids for wearables, cars,...</td>\n",
              "      <td>Technology</td>\n",
              "    </tr>\n",
              "    <tr>\n",
              "      <th>4</th>\n",
              "      <td>China May new bank loans at 870.8 bln yuan</td>\n",
              "      <td>Business</td>\n",
              "    </tr>\n",
              "    <tr>\n",
              "      <th>...</th>\n",
              "      <td>...</td>\n",
              "      <td>...</td>\n",
              "    </tr>\n",
              "    <tr>\n",
              "      <th>51995</th>\n",
              "      <td>MH370: poor conditions hamper search for debri...</td>\n",
              "      <td>Business</td>\n",
              "    </tr>\n",
              "    <tr>\n",
              "      <th>51996</th>\n",
              "      <td>Tech stocks, Nasdaq take a tumble</td>\n",
              "      <td>Business</td>\n",
              "    </tr>\n",
              "    <tr>\n",
              "      <th>51997</th>\n",
              "      <td>Climate Action Plan - Strategy to Cut Methane ...</td>\n",
              "      <td>Business</td>\n",
              "    </tr>\n",
              "    <tr>\n",
              "      <th>51998</th>\n",
              "      <td>Breakthrough: Living materials created by MIT ...</td>\n",
              "      <td>Technology</td>\n",
              "    </tr>\n",
              "    <tr>\n",
              "      <th>51999</th>\n",
              "      <td>Kate Middleton's bare bottom has been photogra...</td>\n",
              "      <td>Entertainment</td>\n",
              "    </tr>\n",
              "  </tbody>\n",
              "</table>\n",
              "<p>52000 rows × 2 columns</p>\n",
              "</div>\n",
              "    <div class=\"colab-df-buttons\">\n",
              "\n",
              "  <div class=\"colab-df-container\">\n",
              "    <button class=\"colab-df-convert\" onclick=\"convertToInteractive('df-ffcb77a5-0da1-4389-9f2c-48aab3500844')\"\n",
              "            title=\"Convert this dataframe to an interactive table.\"\n",
              "            style=\"display:none;\">\n",
              "\n",
              "  <svg xmlns=\"http://www.w3.org/2000/svg\" height=\"24px\" viewBox=\"0 -960 960 960\">\n",
              "    <path d=\"M120-120v-720h720v720H120Zm60-500h600v-160H180v160Zm220 220h160v-160H400v160Zm0 220h160v-160H400v160ZM180-400h160v-160H180v160Zm440 0h160v-160H620v160ZM180-180h160v-160H180v160Zm440 0h160v-160H620v160Z\"/>\n",
              "  </svg>\n",
              "    </button>\n",
              "\n",
              "  <style>\n",
              "    .colab-df-container {\n",
              "      display:flex;\n",
              "      gap: 12px;\n",
              "    }\n",
              "\n",
              "    .colab-df-convert {\n",
              "      background-color: #E8F0FE;\n",
              "      border: none;\n",
              "      border-radius: 50%;\n",
              "      cursor: pointer;\n",
              "      display: none;\n",
              "      fill: #1967D2;\n",
              "      height: 32px;\n",
              "      padding: 0 0 0 0;\n",
              "      width: 32px;\n",
              "    }\n",
              "\n",
              "    .colab-df-convert:hover {\n",
              "      background-color: #E2EBFA;\n",
              "      box-shadow: 0px 1px 2px rgba(60, 64, 67, 0.3), 0px 1px 3px 1px rgba(60, 64, 67, 0.15);\n",
              "      fill: #174EA6;\n",
              "    }\n",
              "\n",
              "    .colab-df-buttons div {\n",
              "      margin-bottom: 4px;\n",
              "    }\n",
              "\n",
              "    [theme=dark] .colab-df-convert {\n",
              "      background-color: #3B4455;\n",
              "      fill: #D2E3FC;\n",
              "    }\n",
              "\n",
              "    [theme=dark] .colab-df-convert:hover {\n",
              "      background-color: #434B5C;\n",
              "      box-shadow: 0px 1px 3px 1px rgba(0, 0, 0, 0.15);\n",
              "      filter: drop-shadow(0px 1px 2px rgba(0, 0, 0, 0.3));\n",
              "      fill: #FFFFFF;\n",
              "    }\n",
              "  </style>\n",
              "\n",
              "    <script>\n",
              "      const buttonEl =\n",
              "        document.querySelector('#df-ffcb77a5-0da1-4389-9f2c-48aab3500844 button.colab-df-convert');\n",
              "      buttonEl.style.display =\n",
              "        google.colab.kernel.accessAllowed ? 'block' : 'none';\n",
              "\n",
              "      async function convertToInteractive(key) {\n",
              "        const element = document.querySelector('#df-ffcb77a5-0da1-4389-9f2c-48aab3500844');\n",
              "        const dataTable =\n",
              "          await google.colab.kernel.invokeFunction('convertToInteractive',\n",
              "                                                    [key], {});\n",
              "        if (!dataTable) return;\n",
              "\n",
              "        const docLinkHtml = 'Like what you see? Visit the ' +\n",
              "          '<a target=\"_blank\" href=https://colab.research.google.com/notebooks/data_table.ipynb>data table notebook</a>'\n",
              "          + ' to learn more about interactive tables.';\n",
              "        element.innerHTML = '';\n",
              "        dataTable['output_type'] = 'display_data';\n",
              "        await google.colab.output.renderOutput(dataTable, element);\n",
              "        const docLink = document.createElement('div');\n",
              "        docLink.innerHTML = docLinkHtml;\n",
              "        element.appendChild(docLink);\n",
              "      }\n",
              "    </script>\n",
              "  </div>\n",
              "\n",
              "\n",
              "<div id=\"df-e1b044d5-73dc-4654-a002-aa6c4f224a20\">\n",
              "  <button class=\"colab-df-quickchart\" onclick=\"quickchart('df-e1b044d5-73dc-4654-a002-aa6c4f224a20')\"\n",
              "            title=\"Suggest charts\"\n",
              "            style=\"display:none;\">\n",
              "\n",
              "<svg xmlns=\"http://www.w3.org/2000/svg\" height=\"24px\"viewBox=\"0 0 24 24\"\n",
              "     width=\"24px\">\n",
              "    <g>\n",
              "        <path d=\"M19 3H5c-1.1 0-2 .9-2 2v14c0 1.1.9 2 2 2h14c1.1 0 2-.9 2-2V5c0-1.1-.9-2-2-2zM9 17H7v-7h2v7zm4 0h-2V7h2v10zm4 0h-2v-4h2v4z\"/>\n",
              "    </g>\n",
              "</svg>\n",
              "  </button>\n",
              "\n",
              "<style>\n",
              "  .colab-df-quickchart {\n",
              "      --bg-color: #E8F0FE;\n",
              "      --fill-color: #1967D2;\n",
              "      --hover-bg-color: #E2EBFA;\n",
              "      --hover-fill-color: #174EA6;\n",
              "      --disabled-fill-color: #AAA;\n",
              "      --disabled-bg-color: #DDD;\n",
              "  }\n",
              "\n",
              "  [theme=dark] .colab-df-quickchart {\n",
              "      --bg-color: #3B4455;\n",
              "      --fill-color: #D2E3FC;\n",
              "      --hover-bg-color: #434B5C;\n",
              "      --hover-fill-color: #FFFFFF;\n",
              "      --disabled-bg-color: #3B4455;\n",
              "      --disabled-fill-color: #666;\n",
              "  }\n",
              "\n",
              "  .colab-df-quickchart {\n",
              "    background-color: var(--bg-color);\n",
              "    border: none;\n",
              "    border-radius: 50%;\n",
              "    cursor: pointer;\n",
              "    display: none;\n",
              "    fill: var(--fill-color);\n",
              "    height: 32px;\n",
              "    padding: 0;\n",
              "    width: 32px;\n",
              "  }\n",
              "\n",
              "  .colab-df-quickchart:hover {\n",
              "    background-color: var(--hover-bg-color);\n",
              "    box-shadow: 0 1px 2px rgba(60, 64, 67, 0.3), 0 1px 3px 1px rgba(60, 64, 67, 0.15);\n",
              "    fill: var(--button-hover-fill-color);\n",
              "  }\n",
              "\n",
              "  .colab-df-quickchart-complete:disabled,\n",
              "  .colab-df-quickchart-complete:disabled:hover {\n",
              "    background-color: var(--disabled-bg-color);\n",
              "    fill: var(--disabled-fill-color);\n",
              "    box-shadow: none;\n",
              "  }\n",
              "\n",
              "  .colab-df-spinner {\n",
              "    border: 2px solid var(--fill-color);\n",
              "    border-color: transparent;\n",
              "    border-bottom-color: var(--fill-color);\n",
              "    animation:\n",
              "      spin 1s steps(1) infinite;\n",
              "  }\n",
              "\n",
              "  @keyframes spin {\n",
              "    0% {\n",
              "      border-color: transparent;\n",
              "      border-bottom-color: var(--fill-color);\n",
              "      border-left-color: var(--fill-color);\n",
              "    }\n",
              "    20% {\n",
              "      border-color: transparent;\n",
              "      border-left-color: var(--fill-color);\n",
              "      border-top-color: var(--fill-color);\n",
              "    }\n",
              "    30% {\n",
              "      border-color: transparent;\n",
              "      border-left-color: var(--fill-color);\n",
              "      border-top-color: var(--fill-color);\n",
              "      border-right-color: var(--fill-color);\n",
              "    }\n",
              "    40% {\n",
              "      border-color: transparent;\n",
              "      border-right-color: var(--fill-color);\n",
              "      border-top-color: var(--fill-color);\n",
              "    }\n",
              "    60% {\n",
              "      border-color: transparent;\n",
              "      border-right-color: var(--fill-color);\n",
              "    }\n",
              "    80% {\n",
              "      border-color: transparent;\n",
              "      border-right-color: var(--fill-color);\n",
              "      border-bottom-color: var(--fill-color);\n",
              "    }\n",
              "    90% {\n",
              "      border-color: transparent;\n",
              "      border-bottom-color: var(--fill-color);\n",
              "    }\n",
              "  }\n",
              "</style>\n",
              "\n",
              "  <script>\n",
              "    async function quickchart(key) {\n",
              "      const quickchartButtonEl =\n",
              "        document.querySelector('#' + key + ' button');\n",
              "      quickchartButtonEl.disabled = true;  // To prevent multiple clicks.\n",
              "      quickchartButtonEl.classList.add('colab-df-spinner');\n",
              "      try {\n",
              "        const charts = await google.colab.kernel.invokeFunction(\n",
              "            'suggestCharts', [key], {});\n",
              "      } catch (error) {\n",
              "        console.error('Error during call to suggestCharts:', error);\n",
              "      }\n",
              "      quickchartButtonEl.classList.remove('colab-df-spinner');\n",
              "      quickchartButtonEl.classList.add('colab-df-quickchart-complete');\n",
              "    }\n",
              "    (() => {\n",
              "      let quickchartButtonEl =\n",
              "        document.querySelector('#df-e1b044d5-73dc-4654-a002-aa6c4f224a20 button');\n",
              "      quickchartButtonEl.style.display =\n",
              "        google.colab.kernel.accessAllowed ? 'block' : 'none';\n",
              "    })();\n",
              "  </script>\n",
              "</div>\n",
              "\n",
              "  <div id=\"id_2ca6d38f-9680-422e-a5be-7ce6d291c489\">\n",
              "    <style>\n",
              "      .colab-df-generate {\n",
              "        background-color: #E8F0FE;\n",
              "        border: none;\n",
              "        border-radius: 50%;\n",
              "        cursor: pointer;\n",
              "        display: none;\n",
              "        fill: #1967D2;\n",
              "        height: 32px;\n",
              "        padding: 0 0 0 0;\n",
              "        width: 32px;\n",
              "      }\n",
              "\n",
              "      .colab-df-generate:hover {\n",
              "        background-color: #E2EBFA;\n",
              "        box-shadow: 0px 1px 2px rgba(60, 64, 67, 0.3), 0px 1px 3px 1px rgba(60, 64, 67, 0.15);\n",
              "        fill: #174EA6;\n",
              "      }\n",
              "\n",
              "      [theme=dark] .colab-df-generate {\n",
              "        background-color: #3B4455;\n",
              "        fill: #D2E3FC;\n",
              "      }\n",
              "\n",
              "      [theme=dark] .colab-df-generate:hover {\n",
              "        background-color: #434B5C;\n",
              "        box-shadow: 0px 1px 3px 1px rgba(0, 0, 0, 0.15);\n",
              "        filter: drop-shadow(0px 1px 2px rgba(0, 0, 0, 0.3));\n",
              "        fill: #FFFFFF;\n",
              "      }\n",
              "    </style>\n",
              "    <button class=\"colab-df-generate\" onclick=\"generateWithVariable('d')\"\n",
              "            title=\"Generate code using this dataframe.\"\n",
              "            style=\"display:none;\">\n",
              "\n",
              "  <svg xmlns=\"http://www.w3.org/2000/svg\" height=\"24px\"viewBox=\"0 0 24 24\"\n",
              "       width=\"24px\">\n",
              "    <path d=\"M7,19H8.4L18.45,9,17,7.55,7,17.6ZM5,21V16.75L18.45,3.32a2,2,0,0,1,2.83,0l1.4,1.43a1.91,1.91,0,0,1,.58,1.4,1.91,1.91,0,0,1-.58,1.4L9.25,21ZM18.45,9,17,7.55Zm-12,3A5.31,5.31,0,0,0,4.9,8.1,5.31,5.31,0,0,0,1,6.5,5.31,5.31,0,0,0,4.9,4.9,5.31,5.31,0,0,0,6.5,1,5.31,5.31,0,0,0,8.1,4.9,5.31,5.31,0,0,0,12,6.5,5.46,5.46,0,0,0,6.5,12Z\"/>\n",
              "  </svg>\n",
              "    </button>\n",
              "    <script>\n",
              "      (() => {\n",
              "      const buttonEl =\n",
              "        document.querySelector('#id_2ca6d38f-9680-422e-a5be-7ce6d291c489 button.colab-df-generate');\n",
              "      buttonEl.style.display =\n",
              "        google.colab.kernel.accessAllowed ? 'block' : 'none';\n",
              "\n",
              "      buttonEl.onclick = () => {\n",
              "        google.colab.notebook.generateWithVariable('d');\n",
              "      }\n",
              "      })();\n",
              "    </script>\n",
              "  </div>\n",
              "\n",
              "    </div>\n",
              "  </div>\n"
            ],
            "application/vnd.google.colaboratory.intrinsic+json": {
              "type": "dataframe",
              "variable_name": "d",
              "summary": "{\n  \"name\": \"d\",\n  \"rows\": 52000,\n  \"fields\": [\n    {\n      \"column\": \"News Title\",\n      \"properties\": {\n        \"dtype\": \"string\",\n        \"num_unique_values\": 51638,\n        \"samples\": [\n          \"UPDATE 4-Brent up near $113 on supply worries as Iraq violence rises\",\n          \"Obamacare Deadline Extended, but Should You Wait?\",\n          \"Jet Magazine to Shift to Digital Publishing Next Month\"\n        ],\n        \"semantic_type\": \"\",\n        \"description\": \"\"\n      }\n    },\n    {\n      \"column\": \"Category\",\n      \"properties\": {\n        \"dtype\": \"category\",\n        \"num_unique_values\": 4,\n        \"samples\": [\n          \"Business\",\n          \"Medical\",\n          \"Technology\"\n        ],\n        \"semantic_type\": \"\",\n        \"description\": \"\"\n      }\n    }\n  ]\n}"
            }
          },
          "metadata": {},
          "execution_count": 5
        }
      ]
    },
    {
      "cell_type": "code",
      "metadata": {
        "id": "557e90f4"
      },
      "source": [
        "# Cleaning the texts\n",
        "def txtprocess(txt):\n",
        "    # Lower the texts\n",
        "    txt = str(txt).lower()\n",
        "    # Remove contractions\n",
        "    txt = contractions.fix(txt)\n",
        "\n",
        "    # Just pick the alphabet\n",
        "    txt = re.sub(r'[^a-zA-Z]', ' ', txt)\n",
        "    # Fix unnecessary space\n",
        "    txt = re.sub(' +', ' ', txt)\n",
        "\n",
        "    txt = ' '.join(txt.split())\n",
        "\n",
        "    return txt\n",
        "\n",
        "d['News Title'] = d['News Title'].apply(txtprocess)"
      ],
      "execution_count": 6,
      "outputs": []
    },
    {
      "cell_type": "code",
      "metadata": {
        "id": "f2c38f47"
      },
      "source": [
        "# Cleaning stopwords. Omit the negative maker words (I found this quite effective on this case)\n",
        "stop_words = set(nltk.corpus.stopwords.words('english'))\n",
        "stop_words.remove('no')\n",
        "stop_words.remove('not')\n",
        "stop_words.remove('but')\n",
        "\n",
        "def remove_stopwords(txt):\n",
        "    no_stopword_txt = [w for w in txt.split() if not w in stop_words]\n",
        "    return ' '.join(no_stopword_txt)\n",
        "\n",
        "d['News Title'] = d['News Title'].apply(lambda x: remove_stopwords(x))"
      ],
      "execution_count": 7,
      "outputs": []
    },
    {
      "cell_type": "code",
      "metadata": {
        "colab": {
          "base_uri": "https://localhost:8080/",
          "height": 423
        },
        "id": "b34ceb06",
        "outputId": "1be7789a-fc02-4bbf-b8f5-ef6ba9822bf5"
      },
      "source": [
        "# Create new table consists of dummified label\n",
        "category = pd.get_dummies(d.Category)\n",
        "d_new = pd.concat([d, category], axis=1)\n",
        "d_new = d_new.drop('Category',axis=1)\n",
        "d_new"
      ],
      "execution_count": 8,
      "outputs": [
        {
          "output_type": "execute_result",
          "data": {
            "text/plain": [
              "                                              News Title  Business  \\\n",
              "0            google rolls stories tricked photo playback     False   \n",
              "1                          dov charney redeeming quality      True   \n",
              "2              white god adds un certain regard palm dog     False   \n",
              "3               google shows androids wearables cars tvs     False   \n",
              "4                      china may new bank loans bln yuan      True   \n",
              "...                                                  ...       ...   \n",
              "51995  mh poor conditions hamper search debris indian...      True   \n",
              "51996                     tech stocks nasdaq take tumble      True   \n",
              "51997  climate action plan strategy cut methane emiss...      True   \n",
              "51998  breakthrough living materials created mit scie...     False   \n",
              "51999   kate middleton bare bottom photographed but best     False   \n",
              "\n",
              "       Entertainment  Medical  Technology  \n",
              "0              False    False        True  \n",
              "1              False    False       False  \n",
              "2               True    False       False  \n",
              "3              False    False        True  \n",
              "4              False    False       False  \n",
              "...              ...      ...         ...  \n",
              "51995          False    False       False  \n",
              "51996          False    False       False  \n",
              "51997          False    False       False  \n",
              "51998          False    False        True  \n",
              "51999           True    False       False  \n",
              "\n",
              "[52000 rows x 5 columns]"
            ],
            "text/html": [
              "\n",
              "  <div id=\"df-b2eb8610-b644-4da9-b417-59691701305d\" class=\"colab-df-container\">\n",
              "    <div>\n",
              "<style scoped>\n",
              "    .dataframe tbody tr th:only-of-type {\n",
              "        vertical-align: middle;\n",
              "    }\n",
              "\n",
              "    .dataframe tbody tr th {\n",
              "        vertical-align: top;\n",
              "    }\n",
              "\n",
              "    .dataframe thead th {\n",
              "        text-align: right;\n",
              "    }\n",
              "</style>\n",
              "<table border=\"1\" class=\"dataframe\">\n",
              "  <thead>\n",
              "    <tr style=\"text-align: right;\">\n",
              "      <th></th>\n",
              "      <th>News Title</th>\n",
              "      <th>Business</th>\n",
              "      <th>Entertainment</th>\n",
              "      <th>Medical</th>\n",
              "      <th>Technology</th>\n",
              "    </tr>\n",
              "  </thead>\n",
              "  <tbody>\n",
              "    <tr>\n",
              "      <th>0</th>\n",
              "      <td>google rolls stories tricked photo playback</td>\n",
              "      <td>False</td>\n",
              "      <td>False</td>\n",
              "      <td>False</td>\n",
              "      <td>True</td>\n",
              "    </tr>\n",
              "    <tr>\n",
              "      <th>1</th>\n",
              "      <td>dov charney redeeming quality</td>\n",
              "      <td>True</td>\n",
              "      <td>False</td>\n",
              "      <td>False</td>\n",
              "      <td>False</td>\n",
              "    </tr>\n",
              "    <tr>\n",
              "      <th>2</th>\n",
              "      <td>white god adds un certain regard palm dog</td>\n",
              "      <td>False</td>\n",
              "      <td>True</td>\n",
              "      <td>False</td>\n",
              "      <td>False</td>\n",
              "    </tr>\n",
              "    <tr>\n",
              "      <th>3</th>\n",
              "      <td>google shows androids wearables cars tvs</td>\n",
              "      <td>False</td>\n",
              "      <td>False</td>\n",
              "      <td>False</td>\n",
              "      <td>True</td>\n",
              "    </tr>\n",
              "    <tr>\n",
              "      <th>4</th>\n",
              "      <td>china may new bank loans bln yuan</td>\n",
              "      <td>True</td>\n",
              "      <td>False</td>\n",
              "      <td>False</td>\n",
              "      <td>False</td>\n",
              "    </tr>\n",
              "    <tr>\n",
              "      <th>...</th>\n",
              "      <td>...</td>\n",
              "      <td>...</td>\n",
              "      <td>...</td>\n",
              "      <td>...</td>\n",
              "      <td>...</td>\n",
              "    </tr>\n",
              "    <tr>\n",
              "      <th>51995</th>\n",
              "      <td>mh poor conditions hamper search debris indian...</td>\n",
              "      <td>True</td>\n",
              "      <td>False</td>\n",
              "      <td>False</td>\n",
              "      <td>False</td>\n",
              "    </tr>\n",
              "    <tr>\n",
              "      <th>51996</th>\n",
              "      <td>tech stocks nasdaq take tumble</td>\n",
              "      <td>True</td>\n",
              "      <td>False</td>\n",
              "      <td>False</td>\n",
              "      <td>False</td>\n",
              "    </tr>\n",
              "    <tr>\n",
              "      <th>51997</th>\n",
              "      <td>climate action plan strategy cut methane emiss...</td>\n",
              "      <td>True</td>\n",
              "      <td>False</td>\n",
              "      <td>False</td>\n",
              "      <td>False</td>\n",
              "    </tr>\n",
              "    <tr>\n",
              "      <th>51998</th>\n",
              "      <td>breakthrough living materials created mit scie...</td>\n",
              "      <td>False</td>\n",
              "      <td>False</td>\n",
              "      <td>False</td>\n",
              "      <td>True</td>\n",
              "    </tr>\n",
              "    <tr>\n",
              "      <th>51999</th>\n",
              "      <td>kate middleton bare bottom photographed but best</td>\n",
              "      <td>False</td>\n",
              "      <td>True</td>\n",
              "      <td>False</td>\n",
              "      <td>False</td>\n",
              "    </tr>\n",
              "  </tbody>\n",
              "</table>\n",
              "<p>52000 rows × 5 columns</p>\n",
              "</div>\n",
              "    <div class=\"colab-df-buttons\">\n",
              "\n",
              "  <div class=\"colab-df-container\">\n",
              "    <button class=\"colab-df-convert\" onclick=\"convertToInteractive('df-b2eb8610-b644-4da9-b417-59691701305d')\"\n",
              "            title=\"Convert this dataframe to an interactive table.\"\n",
              "            style=\"display:none;\">\n",
              "\n",
              "  <svg xmlns=\"http://www.w3.org/2000/svg\" height=\"24px\" viewBox=\"0 -960 960 960\">\n",
              "    <path d=\"M120-120v-720h720v720H120Zm60-500h600v-160H180v160Zm220 220h160v-160H400v160Zm0 220h160v-160H400v160ZM180-400h160v-160H180v160Zm440 0h160v-160H620v160ZM180-180h160v-160H180v160Zm440 0h160v-160H620v160Z\"/>\n",
              "  </svg>\n",
              "    </button>\n",
              "\n",
              "  <style>\n",
              "    .colab-df-container {\n",
              "      display:flex;\n",
              "      gap: 12px;\n",
              "    }\n",
              "\n",
              "    .colab-df-convert {\n",
              "      background-color: #E8F0FE;\n",
              "      border: none;\n",
              "      border-radius: 50%;\n",
              "      cursor: pointer;\n",
              "      display: none;\n",
              "      fill: #1967D2;\n",
              "      height: 32px;\n",
              "      padding: 0 0 0 0;\n",
              "      width: 32px;\n",
              "    }\n",
              "\n",
              "    .colab-df-convert:hover {\n",
              "      background-color: #E2EBFA;\n",
              "      box-shadow: 0px 1px 2px rgba(60, 64, 67, 0.3), 0px 1px 3px 1px rgba(60, 64, 67, 0.15);\n",
              "      fill: #174EA6;\n",
              "    }\n",
              "\n",
              "    .colab-df-buttons div {\n",
              "      margin-bottom: 4px;\n",
              "    }\n",
              "\n",
              "    [theme=dark] .colab-df-convert {\n",
              "      background-color: #3B4455;\n",
              "      fill: #D2E3FC;\n",
              "    }\n",
              "\n",
              "    [theme=dark] .colab-df-convert:hover {\n",
              "      background-color: #434B5C;\n",
              "      box-shadow: 0px 1px 3px 1px rgba(0, 0, 0, 0.15);\n",
              "      filter: drop-shadow(0px 1px 2px rgba(0, 0, 0, 0.3));\n",
              "      fill: #FFFFFF;\n",
              "    }\n",
              "  </style>\n",
              "\n",
              "    <script>\n",
              "      const buttonEl =\n",
              "        document.querySelector('#df-b2eb8610-b644-4da9-b417-59691701305d button.colab-df-convert');\n",
              "      buttonEl.style.display =\n",
              "        google.colab.kernel.accessAllowed ? 'block' : 'none';\n",
              "\n",
              "      async function convertToInteractive(key) {\n",
              "        const element = document.querySelector('#df-b2eb8610-b644-4da9-b417-59691701305d');\n",
              "        const dataTable =\n",
              "          await google.colab.kernel.invokeFunction('convertToInteractive',\n",
              "                                                    [key], {});\n",
              "        if (!dataTable) return;\n",
              "\n",
              "        const docLinkHtml = 'Like what you see? Visit the ' +\n",
              "          '<a target=\"_blank\" href=https://colab.research.google.com/notebooks/data_table.ipynb>data table notebook</a>'\n",
              "          + ' to learn more about interactive tables.';\n",
              "        element.innerHTML = '';\n",
              "        dataTable['output_type'] = 'display_data';\n",
              "        await google.colab.output.renderOutput(dataTable, element);\n",
              "        const docLink = document.createElement('div');\n",
              "        docLink.innerHTML = docLinkHtml;\n",
              "        element.appendChild(docLink);\n",
              "      }\n",
              "    </script>\n",
              "  </div>\n",
              "\n",
              "\n",
              "<div id=\"df-10115b09-e85d-4686-a453-1b6a844229ce\">\n",
              "  <button class=\"colab-df-quickchart\" onclick=\"quickchart('df-10115b09-e85d-4686-a453-1b6a844229ce')\"\n",
              "            title=\"Suggest charts\"\n",
              "            style=\"display:none;\">\n",
              "\n",
              "<svg xmlns=\"http://www.w3.org/2000/svg\" height=\"24px\"viewBox=\"0 0 24 24\"\n",
              "     width=\"24px\">\n",
              "    <g>\n",
              "        <path d=\"M19 3H5c-1.1 0-2 .9-2 2v14c0 1.1.9 2 2 2h14c1.1 0 2-.9 2-2V5c0-1.1-.9-2-2-2zM9 17H7v-7h2v7zm4 0h-2V7h2v10zm4 0h-2v-4h2v4z\"/>\n",
              "    </g>\n",
              "</svg>\n",
              "  </button>\n",
              "\n",
              "<style>\n",
              "  .colab-df-quickchart {\n",
              "      --bg-color: #E8F0FE;\n",
              "      --fill-color: #1967D2;\n",
              "      --hover-bg-color: #E2EBFA;\n",
              "      --hover-fill-color: #174EA6;\n",
              "      --disabled-fill-color: #AAA;\n",
              "      --disabled-bg-color: #DDD;\n",
              "  }\n",
              "\n",
              "  [theme=dark] .colab-df-quickchart {\n",
              "      --bg-color: #3B4455;\n",
              "      --fill-color: #D2E3FC;\n",
              "      --hover-bg-color: #434B5C;\n",
              "      --hover-fill-color: #FFFFFF;\n",
              "      --disabled-bg-color: #3B4455;\n",
              "      --disabled-fill-color: #666;\n",
              "  }\n",
              "\n",
              "  .colab-df-quickchart {\n",
              "    background-color: var(--bg-color);\n",
              "    border: none;\n",
              "    border-radius: 50%;\n",
              "    cursor: pointer;\n",
              "    display: none;\n",
              "    fill: var(--fill-color);\n",
              "    height: 32px;\n",
              "    padding: 0;\n",
              "    width: 32px;\n",
              "  }\n",
              "\n",
              "  .colab-df-quickchart:hover {\n",
              "    background-color: var(--hover-bg-color);\n",
              "    box-shadow: 0 1px 2px rgba(60, 64, 67, 0.3), 0 1px 3px 1px rgba(60, 64, 67, 0.15);\n",
              "    fill: var(--button-hover-fill-color);\n",
              "  }\n",
              "\n",
              "  .colab-df-quickchart-complete:disabled,\n",
              "  .colab-df-quickchart-complete:disabled:hover {\n",
              "    background-color: var(--disabled-bg-color);\n",
              "    fill: var(--disabled-fill-color);\n",
              "    box-shadow: none;\n",
              "  }\n",
              "\n",
              "  .colab-df-spinner {\n",
              "    border: 2px solid var(--fill-color);\n",
              "    border-color: transparent;\n",
              "    border-bottom-color: var(--fill-color);\n",
              "    animation:\n",
              "      spin 1s steps(1) infinite;\n",
              "  }\n",
              "\n",
              "  @keyframes spin {\n",
              "    0% {\n",
              "      border-color: transparent;\n",
              "      border-bottom-color: var(--fill-color);\n",
              "      border-left-color: var(--fill-color);\n",
              "    }\n",
              "    20% {\n",
              "      border-color: transparent;\n",
              "      border-left-color: var(--fill-color);\n",
              "      border-top-color: var(--fill-color);\n",
              "    }\n",
              "    30% {\n",
              "      border-color: transparent;\n",
              "      border-left-color: var(--fill-color);\n",
              "      border-top-color: var(--fill-color);\n",
              "      border-right-color: var(--fill-color);\n",
              "    }\n",
              "    40% {\n",
              "      border-color: transparent;\n",
              "      border-right-color: var(--fill-color);\n",
              "      border-top-color: var(--fill-color);\n",
              "    }\n",
              "    60% {\n",
              "      border-color: transparent;\n",
              "      border-right-color: var(--fill-color);\n",
              "    }\n",
              "    80% {\n",
              "      border-color: transparent;\n",
              "      border-right-color: var(--fill-color);\n",
              "      border-bottom-color: var(--fill-color);\n",
              "    }\n",
              "    90% {\n",
              "      border-color: transparent;\n",
              "      border-bottom-color: var(--fill-color);\n",
              "    }\n",
              "  }\n",
              "</style>\n",
              "\n",
              "  <script>\n",
              "    async function quickchart(key) {\n",
              "      const quickchartButtonEl =\n",
              "        document.querySelector('#' + key + ' button');\n",
              "      quickchartButtonEl.disabled = true;  // To prevent multiple clicks.\n",
              "      quickchartButtonEl.classList.add('colab-df-spinner');\n",
              "      try {\n",
              "        const charts = await google.colab.kernel.invokeFunction(\n",
              "            'suggestCharts', [key], {});\n",
              "      } catch (error) {\n",
              "        console.error('Error during call to suggestCharts:', error);\n",
              "      }\n",
              "      quickchartButtonEl.classList.remove('colab-df-spinner');\n",
              "      quickchartButtonEl.classList.add('colab-df-quickchart-complete');\n",
              "    }\n",
              "    (() => {\n",
              "      let quickchartButtonEl =\n",
              "        document.querySelector('#df-10115b09-e85d-4686-a453-1b6a844229ce button');\n",
              "      quickchartButtonEl.style.display =\n",
              "        google.colab.kernel.accessAllowed ? 'block' : 'none';\n",
              "    })();\n",
              "  </script>\n",
              "</div>\n",
              "\n",
              "  <div id=\"id_f91d8a2f-520d-43bc-834f-c27157cee764\">\n",
              "    <style>\n",
              "      .colab-df-generate {\n",
              "        background-color: #E8F0FE;\n",
              "        border: none;\n",
              "        border-radius: 50%;\n",
              "        cursor: pointer;\n",
              "        display: none;\n",
              "        fill: #1967D2;\n",
              "        height: 32px;\n",
              "        padding: 0 0 0 0;\n",
              "        width: 32px;\n",
              "      }\n",
              "\n",
              "      .colab-df-generate:hover {\n",
              "        background-color: #E2EBFA;\n",
              "        box-shadow: 0px 1px 2px rgba(60, 64, 67, 0.3), 0px 1px 3px 1px rgba(60, 64, 67, 0.15);\n",
              "        fill: #174EA6;\n",
              "      }\n",
              "\n",
              "      [theme=dark] .colab-df-generate {\n",
              "        background-color: #3B4455;\n",
              "        fill: #D2E3FC;\n",
              "      }\n",
              "\n",
              "      [theme=dark] .colab-df-generate:hover {\n",
              "        background-color: #434B5C;\n",
              "        box-shadow: 0px 1px 3px 1px rgba(0, 0, 0, 0.15);\n",
              "        filter: drop-shadow(0px 1px 2px rgba(0, 0, 0, 0.3));\n",
              "        fill: #FFFFFF;\n",
              "      }\n",
              "    </style>\n",
              "    <button class=\"colab-df-generate\" onclick=\"generateWithVariable('d_new')\"\n",
              "            title=\"Generate code using this dataframe.\"\n",
              "            style=\"display:none;\">\n",
              "\n",
              "  <svg xmlns=\"http://www.w3.org/2000/svg\" height=\"24px\"viewBox=\"0 0 24 24\"\n",
              "       width=\"24px\">\n",
              "    <path d=\"M7,19H8.4L18.45,9,17,7.55,7,17.6ZM5,21V16.75L18.45,3.32a2,2,0,0,1,2.83,0l1.4,1.43a1.91,1.91,0,0,1,.58,1.4,1.91,1.91,0,0,1-.58,1.4L9.25,21ZM18.45,9,17,7.55Zm-12,3A5.31,5.31,0,0,0,4.9,8.1,5.31,5.31,0,0,0,1,6.5,5.31,5.31,0,0,0,4.9,4.9,5.31,5.31,0,0,0,6.5,1,5.31,5.31,0,0,0,8.1,4.9,5.31,5.31,0,0,0,12,6.5,5.46,5.46,0,0,0,6.5,12Z\"/>\n",
              "  </svg>\n",
              "    </button>\n",
              "    <script>\n",
              "      (() => {\n",
              "      const buttonEl =\n",
              "        document.querySelector('#id_f91d8a2f-520d-43bc-834f-c27157cee764 button.colab-df-generate');\n",
              "      buttonEl.style.display =\n",
              "        google.colab.kernel.accessAllowed ? 'block' : 'none';\n",
              "\n",
              "      buttonEl.onclick = () => {\n",
              "        google.colab.notebook.generateWithVariable('d_new');\n",
              "      }\n",
              "      })();\n",
              "    </script>\n",
              "  </div>\n",
              "\n",
              "    </div>\n",
              "  </div>\n"
            ],
            "application/vnd.google.colaboratory.intrinsic+json": {
              "type": "dataframe",
              "variable_name": "d_new",
              "summary": "{\n  \"name\": \"d_new\",\n  \"rows\": 52000,\n  \"fields\": [\n    {\n      \"column\": \"News Title\",\n      \"properties\": {\n        \"dtype\": \"string\",\n        \"num_unique_values\": 51308,\n        \"samples\": [\n          \"birthday girl lady gaga performs final roseland ballroom shows\",\n          \"gas prices nebraska continue fall\",\n          \"tj wilkins sings waiting world change voice top live show\"\n        ],\n        \"semantic_type\": \"\",\n        \"description\": \"\"\n      }\n    },\n    {\n      \"column\": \"Business\",\n      \"properties\": {\n        \"dtype\": \"boolean\",\n        \"num_unique_values\": 2,\n        \"samples\": [\n          true,\n          false\n        ],\n        \"semantic_type\": \"\",\n        \"description\": \"\"\n      }\n    },\n    {\n      \"column\": \"Entertainment\",\n      \"properties\": {\n        \"dtype\": \"boolean\",\n        \"num_unique_values\": 2,\n        \"samples\": [\n          true,\n          false\n        ],\n        \"semantic_type\": \"\",\n        \"description\": \"\"\n      }\n    },\n    {\n      \"column\": \"Medical\",\n      \"properties\": {\n        \"dtype\": \"boolean\",\n        \"num_unique_values\": 2,\n        \"samples\": [\n          true,\n          false\n        ],\n        \"semantic_type\": \"\",\n        \"description\": \"\"\n      }\n    },\n    {\n      \"column\": \"Technology\",\n      \"properties\": {\n        \"dtype\": \"boolean\",\n        \"num_unique_values\": 2,\n        \"samples\": [\n          false,\n          true\n        ],\n        \"semantic_type\": \"\",\n        \"description\": \"\"\n      }\n    }\n  ]\n}"
            }
          },
          "metadata": {},
          "execution_count": 8
        }
      ]
    },
    {
      "cell_type": "code",
      "metadata": {
        "id": "u0hY9xX-lyxr"
      },
      "source": [
        "# Get data as array\n",
        "title = d_new['News Title'].values\n",
        "label = d_new[category.columns].values\n",
        "title_train, title_test, y_train, y_test = train_test_split(title, label, test_size=0.2, random_state=42)"
      ],
      "execution_count": 9,
      "outputs": []
    },
    {
      "cell_type": "code",
      "metadata": {
        "id": "j0xJDisdlyx4"
      },
      "source": [
        "# Mark the uncategorized words as -\n",
        "# Don't let the test data be fitted also (dont let test data know the train data)\n",
        "tokenizer = Tokenizer(num_words=None, oov_token='-')\n",
        "tokenizer.fit_on_texts(title_train)\n",
        "\n",
        "sekuens_train = tokenizer.texts_to_sequences(title_train)\n",
        "sekuens_test = tokenizer.texts_to_sequences(title_test)\n",
        "\n",
        "padded_train = pad_sequences(sekuens_train)\n",
        "padded_test = pad_sequences(sekuens_test)"
      ],
      "execution_count": 10,
      "outputs": []
    },
    {
      "cell_type": "code",
      "metadata": {
        "colab": {
          "base_uri": "https://localhost:8080/"
        },
        "id": "fb2557b9",
        "outputId": "95dd638f-ab77-4f25-8c7f-e4d164d04a2b"
      },
      "source": [
        "# As reminder to the shape of the padded_train\n",
        "sekuens_train[:5], padded_train"
      ],
      "execution_count": 11,
      "outputs": [
        {
          "output_type": "execute_result",
          "data": {
            "text/plain": [
              "([[2220, 1073, 10718, 216, 4121, 110],\n",
              "  [512, 1660, 439, 1571, 6372, 7911, 6373],\n",
              "  [15, 371, 26, 2079, 500],\n",
              "  [1491, 13, 36, 5022, 1760, 3917, 145],\n",
              "  [22, 21, 67, 34, 540, 501, 10719, 716, 2338, 2589]],\n",
              " array([[   0,    0,    0, ...,  216, 4121,  110],\n",
              "        [   0,    0,    0, ..., 6372, 7911, 6373],\n",
              "        [   0,    0,    0, ...,   26, 2079,  500],\n",
              "        ...,\n",
              "        [   0,    0,    0, ...,  107,  111,  222],\n",
              "        [   0,    0,    0, ..., 1292, 7118,  410],\n",
              "        [   0,    0,    0, ..., 1061,  882,   14]], dtype=int32))"
            ]
          },
          "metadata": {},
          "execution_count": 11
        }
      ]
    },
    {
      "cell_type": "code",
      "metadata": {
        "colab": {
          "base_uri": "https://localhost:8080/"
        },
        "id": "4aZ-wrzpoPl_",
        "outputId": "ac7aee58-6bc7-4375-c081-4429f82bff78"
      },
      "source": [
        "# Length of each tokenized data\n",
        "# The size of input nodes, or input length in embedding layer (if use flatten after that) (use train)\n",
        "len(padded_train[1]), len(padded_test[1])"
      ],
      "execution_count": 12,
      "outputs": [
        {
          "output_type": "execute_result",
          "data": {
            "text/plain": [
              "(101, 13)"
            ]
          },
          "metadata": {},
          "execution_count": 12
        }
      ]
    },
    {
      "cell_type": "code",
      "metadata": {
        "id": "ojh3pjgDoR1W",
        "colab": {
          "base_uri": "https://localhost:8080/"
        },
        "outputId": "dad58cc4-5f82-43ab-82f1-378890694f71"
      },
      "source": [
        "## Length of the data\n",
        "len(padded_train), len(padded_test)"
      ],
      "execution_count": 13,
      "outputs": [
        {
          "output_type": "execute_result",
          "data": {
            "text/plain": [
              "(41600, 10400)"
            ]
          },
          "metadata": {},
          "execution_count": 13
        }
      ]
    },
    {
      "cell_type": "code",
      "metadata": {
        "colab": {
          "base_uri": "https://localhost:8080/"
        },
        "id": "618e8483",
        "outputId": "d769da62-cabd-4d78-de68-7049ae8c81f7"
      },
      "source": [
        "# Check word index of the tokenized data\n",
        "print(dict(list(tokenizer.word_index.items())[:30]))"
      ],
      "execution_count": 14,
      "outputs": [
        {
          "output_type": "stream",
          "name": "stdout",
          "text": [
            "{'-': 1, 'new': 2, 'us': 3, 'not': 4, 'google': 5, 'apple': 6, 'video': 7, 'says': 8, 'first': 9, 'samsung': 10, 'may': 11, 'one': 12, 'facebook': 13, 'report': 14, 'microsoft': 15, 'star': 16, 'watch': 17, 'galaxy': 18, 'china': 19, 'day': 20, 'kardashian': 21, 'kim': 22, 'season': 23, 'review': 24, 'but': 25, 'deal': 26, 'million': 27, 'game': 28, 'amazon': 29, 'world': 30}\n"
          ]
        }
      ]
    },
    {
      "cell_type": "code",
      "metadata": {
        "colab": {
          "base_uri": "https://localhost:8080/"
        },
        "id": "853e46b7",
        "outputId": "2677d59c-e604-4c13-cbf9-2ed113bd76a6"
      },
      "source": [
        "# Richness of the words\n",
        "len(tokenizer.word_index)"
      ],
      "execution_count": 15,
      "outputs": [
        {
          "output_type": "execute_result",
          "data": {
            "text/plain": [
              "21943"
            ]
          },
          "metadata": {},
          "execution_count": 15
        }
      ]
    },
    {
      "cell_type": "markdown",
      "metadata": {
        "id": "uRsLPM-zM4z9"
      },
      "source": [
        "https://towardsdatascience.com/choosing-the-right-hyperparameters-for-a-simple-lstm-using-keras-f8e9ed76f046"
      ]
    },
    {
      "cell_type": "code",
      "metadata": {
        "colab": {
          "base_uri": "https://localhost:8080/"
        },
        "id": "_SLTGg1dFgig",
        "outputId": "00dac5db-b421-4fef-b049-6ba77a2b41f2"
      },
      "source": [
        "# to decide LSTM hidden nodes\n",
        "hidden_nodes = int(2/3 * (len(padded_train[1]) * len(category.columns)))\n",
        "hidden_nodes"
      ],
      "execution_count": 16,
      "outputs": [
        {
          "output_type": "execute_result",
          "data": {
            "text/plain": [
              "269"
            ]
          },
          "metadata": {},
          "execution_count": 16
        }
      ]
    },
    {
      "cell_type": "markdown",
      "metadata": {
        "id": "dFNwVYoIFLaZ"
      },
      "source": [
        "https://stats.stackexchange.com/questions/181/how-to-choose-the-number-of-hidden-layers-and-nodes-in-a-feedforward-neural-netw/136542#136542"
      ]
    },
    {
      "cell_type": "code",
      "metadata": {
        "id": "BgkChOpDov7w",
        "colab": {
          "base_uri": "https://localhost:8080/"
        },
        "outputId": "1025f9c5-938e-4ce4-81e8-47e7dade06d6"
      },
      "source": [
        "# another way to decide LSTM hidden nodes\n",
        "# alpha 5-10, some say its 2-10\n",
        "alpha = 10\n",
        "hidden_nodes = int(len(padded_train)/(alpha*(len(padded_train[1]) * len(category.columns))))\n",
        "hidden_nodes"
      ],
      "execution_count": 17,
      "outputs": [
        {
          "output_type": "execute_result",
          "data": {
            "text/plain": [
              "10"
            ]
          },
          "metadata": {},
          "execution_count": 17
        }
      ]
    },
    {
      "cell_type": "markdown",
      "metadata": {
        "id": "ec5a9ddd"
      },
      "source": [
        "https://stats.stackexchange.com/questions/270546/how-does-keras-embedding-layer-work\n",
        "\n",
        "https://forums.fast.ai/t/embedding-layer-size-rule/50691/13"
      ]
    },
    {
      "cell_type": "code",
      "metadata": {
        "id": "deafda1d",
        "colab": {
          "base_uri": "https://localhost:8080/"
        },
        "outputId": "abe565e5-da35-4cb2-9f17-270f4a312296"
      },
      "source": [
        "import torch\n",
        "import torch.nn as nn\n",
        "import torch.optim as optim\n",
        "from torch.utils.data import DataLoader, TensorDataset\n",
        "\n",
        "# Check if GPU is available\n",
        "device = torch.device('cuda' if torch.cuda.is_available() else 'cpu')\n",
        "print(f\"Using device: {device}\")\n",
        "\n",
        "# Define the model\n",
        "class NewsClassifier(nn.Module):\n",
        "    def __init__(self, vocab_size, embedding_dim, hidden_dim, output_dim, dropout):\n",
        "        super(NewsClassifier, self).__init__()\n",
        "        self.embedding = nn.Embedding(vocab_size, embedding_dim)\n",
        "        self.lstm = nn.LSTM(embedding_dim, hidden_dim, batch_first=True, dropout=dropout)\n",
        "        self.fc = nn.Linear(hidden_dim, output_dim)\n",
        "        self.softmax = nn.Softmax(dim=1)\n",
        "\n",
        "    def forward(self, x):\n",
        "        embedded = self.embedding(x)\n",
        "        _, (hidden, _) = self.lstm(embedded)\n",
        "        output = self.fc(hidden[-1])\n",
        "        return self.softmax(output)"
      ],
      "execution_count": 59,
      "outputs": [
        {
          "output_type": "stream",
          "name": "stdout",
          "text": [
            "Using device: cuda\n"
          ]
        }
      ]
    },
    {
      "cell_type": "code",
      "source": [
        "# Parameters\n",
        "vocab_size = len(tokenizer.word_index) + 1  # Replace tokenizer with your PyTorch tokenizer\n",
        "embedding_dim = 500\n",
        "hidden_dim = hidden_nodes  # Define hidden_nodes\n",
        "output_dim = 4\n",
        "dropout = 0.96\n",
        "\n",
        "# Model, loss, and optimizer\n",
        "model = NewsClassifier(vocab_size, embedding_dim, hidden_dim, output_dim, dropout).to(device)\n",
        "criterion = nn.CrossEntropyLoss()\n",
        "optimizer = optim.Adam(model.parameters())"
      ],
      "metadata": {
        "id": "KlKVfFLP-no0"
      },
      "execution_count": 60,
      "outputs": []
    },
    {
      "cell_type": "code",
      "source": [
        "# Convert data to PyTorch tensors and move to GPU\n",
        "padded_train_tensor = torch.tensor(padded_train, dtype=torch.long).to(device)\n",
        "y_train_tensor = torch.tensor(y_train.argmax(axis=1), dtype=torch.long).to(device)\n",
        "padded_test_tensor = torch.tensor(padded_test, dtype=torch.long).to(device)\n",
        "y_test_tensor = torch.tensor(y_test.argmax(axis=1), dtype=torch.long).to(device)\n",
        "\n",
        "# Create DataLoader\n",
        "batch_size = 128\n",
        "train_dataset = TensorDataset(padded_train_tensor, y_train_tensor)\n",
        "train_loader = DataLoader(train_dataset, batch_size=batch_size, shuffle=True)\n",
        "test_dataset = TensorDataset(padded_test_tensor, y_test_tensor)\n",
        "test_loader = DataLoader(test_dataset, batch_size=batch_size, shuffle=False)"
      ],
      "metadata": {
        "id": "f5DDCrYRD8IH"
      },
      "execution_count": 61,
      "outputs": []
    },
    {
      "cell_type": "code",
      "metadata": {
        "id": "mKTc_uA_1_qj",
        "colab": {
          "base_uri": "https://localhost:8080/"
        },
        "outputId": "1af65c77-6c53-44da-a019-eb3d5ca7506c"
      },
      "source": [
        "# Store metrics\n",
        "train_losses = []\n",
        "val_losses = []\n",
        "train_accuracies = []\n",
        "val_accuracies = []\n",
        "\n",
        "# Training loop\n",
        "num_epochs = 60\n",
        "patience = 10\n",
        "best_val_acc = 0\n",
        "epochs_without_improvement = 0\n",
        "\n",
        "for epoch in range(num_epochs):\n",
        "    # Training\n",
        "    model.train()\n",
        "    train_loss = 0\n",
        "    train_correct = 0\n",
        "    for inputs, labels in train_loader:\n",
        "        inputs, labels = inputs.to(device), labels.to(device)  # Move to GPU\n",
        "        optimizer.zero_grad()\n",
        "        outputs = model(inputs)\n",
        "        loss = criterion(outputs, labels)\n",
        "        loss.backward()\n",
        "        optimizer.step()\n",
        "        train_loss += loss.item()\n",
        "        train_correct += (outputs.argmax(1) == labels).sum().item()\n",
        "\n",
        "    train_acc = train_correct / len(train_loader.dataset)\n",
        "    train_losses.append(train_loss / len(train_loader))\n",
        "    train_accuracies.append(train_acc)\n",
        "\n",
        "    # Validation\n",
        "    model.eval()\n",
        "    val_loss = 0\n",
        "    val_correct = 0\n",
        "    with torch.no_grad():\n",
        "        for inputs, labels in test_loader:\n",
        "            inputs, labels = inputs.to(device), labels.to(device)  # Move to GPU\n",
        "            outputs = model(inputs)\n",
        "            loss = criterion(outputs, labels)\n",
        "            val_loss += loss.item()\n",
        "            val_correct += (outputs.argmax(1) == labels).sum().item()\n",
        "\n",
        "    val_acc = val_correct / len(test_loader.dataset)\n",
        "    val_losses.append(val_loss / len(test_loader))\n",
        "    val_accuracies.append(val_acc)\n",
        "\n",
        "    print(f\"Epoch {epoch+1}: Train Loss = {train_losses[-1]:.4f}, Train Acc = {train_accuracies[-1]:.4f}, \"\n",
        "          f\"Val Loss = {val_losses[-1]:.4f}, Val Acc = {val_accuracies[-1]:.4f}\")\n",
        "\n",
        "    # Early stopping\n",
        "    if val_acc > best_val_acc:\n",
        "        best_val_acc = val_acc\n",
        "        epochs_without_improvement = 0\n",
        "    else:\n",
        "        epochs_without_improvement += 1\n",
        "\n",
        "    if epochs_without_improvement >= patience:\n",
        "        print(\"Early stopping triggered.\")\n",
        "        break"
      ],
      "execution_count": 62,
      "outputs": [
        {
          "output_type": "stream",
          "name": "stdout",
          "text": [
            "Epoch 1: Train Loss = 1.3151, Train Acc = 0.4673, Val Loss = 1.2229, Val Acc = 0.5829\n",
            "Epoch 2: Train Loss = 1.0988, Train Acc = 0.7057, Val Loss = 1.0511, Val Acc = 0.7255\n",
            "Epoch 3: Train Loss = 0.9459, Train Acc = 0.8315, Val Loss = 0.9667, Val Acc = 0.7980\n",
            "Epoch 4: Train Loss = 0.8710, Train Acc = 0.8962, Val Loss = 0.9322, Val Acc = 0.8253\n",
            "Epoch 5: Train Loss = 0.8317, Train Acc = 0.9294, Val Loss = 0.9124, Val Acc = 0.8421\n",
            "Epoch 6: Train Loss = 0.8091, Train Acc = 0.9476, Val Loss = 0.9002, Val Acc = 0.8511\n",
            "Epoch 7: Train Loss = 0.7951, Train Acc = 0.9587, Val Loss = 0.8947, Val Acc = 0.8557\n",
            "Epoch 8: Train Loss = 0.7858, Train Acc = 0.9654, Val Loss = 0.8914, Val Acc = 0.8562\n",
            "Epoch 9: Train Loss = 0.7797, Train Acc = 0.9698, Val Loss = 0.8901, Val Acc = 0.8543\n",
            "Epoch 10: Train Loss = 0.7758, Train Acc = 0.9727, Val Loss = 0.8882, Val Acc = 0.8577\n",
            "Epoch 11: Train Loss = 0.7719, Train Acc = 0.9758, Val Loss = 0.8847, Val Acc = 0.8604\n",
            "Epoch 12: Train Loss = 0.7709, Train Acc = 0.9764, Val Loss = 0.8835, Val Acc = 0.8602\n",
            "Epoch 13: Train Loss = 0.7705, Train Acc = 0.9765, Val Loss = 0.8813, Val Acc = 0.8625\n",
            "Epoch 14: Train Loss = 0.7674, Train Acc = 0.9790, Val Loss = 0.8819, Val Acc = 0.8609\n",
            "Epoch 15: Train Loss = 0.7654, Train Acc = 0.9803, Val Loss = 0.8779, Val Acc = 0.8660\n",
            "Epoch 16: Train Loss = 0.7636, Train Acc = 0.9819, Val Loss = 0.8792, Val Acc = 0.8651\n",
            "Epoch 17: Train Loss = 0.7621, Train Acc = 0.9830, Val Loss = 0.8784, Val Acc = 0.8648\n",
            "Epoch 18: Train Loss = 0.7610, Train Acc = 0.9840, Val Loss = 0.8780, Val Acc = 0.8645\n",
            "Epoch 19: Train Loss = 0.7605, Train Acc = 0.9848, Val Loss = 0.8781, Val Acc = 0.8651\n",
            "Epoch 20: Train Loss = 0.7607, Train Acc = 0.9846, Val Loss = 0.8787, Val Acc = 0.8639\n",
            "Epoch 21: Train Loss = 0.7599, Train Acc = 0.9851, Val Loss = 0.8796, Val Acc = 0.8636\n",
            "Epoch 22: Train Loss = 0.7595, Train Acc = 0.9853, Val Loss = 0.8748, Val Acc = 0.8683\n",
            "Epoch 23: Train Loss = 0.7584, Train Acc = 0.9862, Val Loss = 0.8764, Val Acc = 0.8656\n",
            "Epoch 24: Train Loss = 0.7579, Train Acc = 0.9867, Val Loss = 0.8755, Val Acc = 0.8679\n",
            "Epoch 25: Train Loss = 0.7574, Train Acc = 0.9870, Val Loss = 0.8757, Val Acc = 0.8661\n",
            "Epoch 26: Train Loss = 0.7569, Train Acc = 0.9875, Val Loss = 0.8757, Val Acc = 0.8660\n",
            "Epoch 27: Train Loss = 0.7568, Train Acc = 0.9873, Val Loss = 0.8748, Val Acc = 0.8673\n",
            "Epoch 28: Train Loss = 0.7567, Train Acc = 0.9876, Val Loss = 0.8751, Val Acc = 0.8676\n",
            "Epoch 29: Train Loss = 0.7581, Train Acc = 0.9862, Val Loss = 0.8734, Val Acc = 0.8678\n",
            "Epoch 30: Train Loss = 0.7576, Train Acc = 0.9867, Val Loss = 0.8731, Val Acc = 0.8685\n",
            "Epoch 31: Train Loss = 0.7572, Train Acc = 0.9871, Val Loss = 0.8726, Val Acc = 0.8692\n",
            "Epoch 32: Train Loss = 0.7566, Train Acc = 0.9876, Val Loss = 0.8716, Val Acc = 0.8709\n",
            "Epoch 33: Train Loss = 0.7558, Train Acc = 0.9883, Val Loss = 0.8722, Val Acc = 0.8696\n",
            "Epoch 34: Train Loss = 0.7553, Train Acc = 0.9888, Val Loss = 0.8727, Val Acc = 0.8696\n",
            "Epoch 35: Train Loss = 0.7550, Train Acc = 0.9890, Val Loss = 0.8733, Val Acc = 0.8676\n",
            "Epoch 36: Train Loss = 0.7551, Train Acc = 0.9888, Val Loss = 0.8749, Val Acc = 0.8663\n",
            "Epoch 37: Train Loss = 0.7548, Train Acc = 0.9891, Val Loss = 0.8741, Val Acc = 0.8664\n",
            "Epoch 38: Train Loss = 0.7549, Train Acc = 0.9890, Val Loss = 0.8738, Val Acc = 0.8674\n",
            "Epoch 39: Train Loss = 0.7544, Train Acc = 0.9894, Val Loss = 0.8736, Val Acc = 0.8685\n",
            "Epoch 40: Train Loss = 0.7543, Train Acc = 0.9895, Val Loss = 0.8742, Val Acc = 0.8668\n",
            "Epoch 41: Train Loss = 0.7546, Train Acc = 0.9894, Val Loss = 0.8743, Val Acc = 0.8677\n",
            "Epoch 42: Train Loss = 0.7540, Train Acc = 0.9900, Val Loss = 0.8751, Val Acc = 0.8654\n",
            "Early stopping triggered.\n"
          ]
        }
      ]
    },
    {
      "cell_type": "code",
      "source": [
        "import matplotlib.pyplot as plt\n",
        "\n",
        "# Assume we have these metrics tracked during training\n",
        "# train_accuracies, val_accuracies, train_losses, val_losses\n",
        "\n",
        "plt.figure(figsize=(10, 7))\n",
        "\n",
        "# Plot accuracy\n",
        "plt.plot(train_accuracies, label='accuracy', color='blue')\n",
        "plt.plot(val_accuracies, label='val_accuracy', color='green')\n",
        "\n",
        "# Plot loss\n",
        "plt.plot(train_losses, label='loss', color='orange')\n",
        "plt.plot(val_losses, label='val_loss', color='red')\n",
        "\n",
        "# Graph details\n",
        "plt.xlabel('Epoch')\n",
        "plt.title('Accuracy and Loss Graph')\n",
        "plt.legend()\n",
        "plt.grid()\n",
        "\n",
        "plt.show()"
      ],
      "metadata": {
        "colab": {
          "base_uri": "https://localhost:8080/",
          "height": 641
        },
        "id": "QRtE0qbKLdX4",
        "outputId": "2cb65c39-fff5-44ca-b9e5-6b232c30958d"
      },
      "execution_count": 63,
      "outputs": [
        {
          "output_type": "display_data",
          "data": {
            "text/plain": [
              "<Figure size 1000x700 with 1 Axes>"
            ],
            "image/png": "[encoded data removed]"
          },
          "metadata": {}
        }
      ]
    },
    {
      "cell_type": "code",
      "source": [
        "# Sample input (replace with your test input)\n",
        "# Ensure the input data is preprocessed similarly to the training data\n",
        "test_input = padded_test[1].reshape(1,len(padded_test[1]))  # Replace with actual tokenized and padded input\n",
        "test_input_tensor = torch.tensor(test_input, dtype=torch.long).to(device)  # Convert to tensor and move to GPU\n",
        "\n",
        "# Set the model to evaluation mode\n",
        "model.eval()\n",
        "\n",
        "# Disable gradient calculation for inference\n",
        "with torch.no_grad():\n",
        "    outputs = model(test_input_tensor)\n",
        "    print(outputs)\n",
        "    predictions = torch.argmax(outputs, dim=1)  # Get the class with the highest probability\n",
        "\n",
        "# Print predictions\n",
        "print(\"Predicted Class:\", predictions.item())  # Convert tensor to Python int if predicting one sample\n"
      ],
      "metadata": {
        "colab": {
          "base_uri": "https://localhost:8080/"
        },
        "id": "KzR9e_42GFw8",
        "outputId": "63ce7066-0f5e-4c89-9a0b-c717f443696d"
      },
      "execution_count": 68,
      "outputs": [
        {
          "output_type": "stream",
          "name": "stdout",
          "text": [
            "tensor([[7.8618e-08, 1.0000e+00, 8.7227e-08, 7.0039e-07]], device='cuda:0')\n",
            "Predicted Class: 1\n"
          ]
        }
      ]
    },
    {
      "cell_type": "code",
      "source": [
        "title_test[1]"
      ],
      "metadata": {
        "colab": {
          "base_uri": "https://localhost:8080/",
          "height": 36
        },
        "id": "12dRKryCGNbT",
        "outputId": "8a307c01-0e00-4a5d-8f49-e804537c5033"
      },
      "execution_count": 69,
      "outputs": [
        {
          "output_type": "execute_result",
          "data": {
            "text/plain": [
              "'game thrones season spoilers top moments expect jon'"
            ],
            "application/vnd.google.colaboratory.intrinsic+json": {
              "type": "string"
            }
          },
          "metadata": {},
          "execution_count": 69
        }
      ]
    },
    {
      "cell_type": "code",
      "source": [
        "y_test[1]"
      ],
      "metadata": {
        "colab": {
          "base_uri": "https://localhost:8080/"
        },
        "id": "YlfDPBPLGVQL",
        "outputId": "f53f9ffe-f088-45b4-a035-afbcb2c71284"
      },
      "execution_count": 70,
      "outputs": [
        {
          "output_type": "execute_result",
          "data": {
            "text/plain": [
              "array([False,  True, False, False])"
            ]
          },
          "metadata": {},
          "execution_count": 70
        }
      ]
    },
    {
      "cell_type": "markdown",
      "source": [
        "https://chatgpt.com/c/67512614-ff48-8013-94c8-6ecda1719bce"
      ],
      "metadata": {
        "id": "Xl3TGD3CMg1P"
      }
    }
  ]
}