{
  "nbformat": 4,
  "nbformat_minor": 0,
  "metadata": {
    "colab": {
      "name": "NLP-LSTM : News Title Classification - Alvin Rachmat",
      "provenance": [],
      "include_colab_link": true
    },
    "kernelspec": {
      "name": "python3",
      "display_name": "Python 3"
    },
    "language_info": {
      "name": "python"
    },
    "accelerator": "GPU"
  },
  "cells": [
    {
      "cell_type": "markdown",
      "metadata": {
        "id": "view-in-github",
        "colab_type": "text"
      },
      "source": [
        "<a href=\"https://colab.research.google.com/github/alvinrach/24-NLP-LSTM-News-Title-Classification/blob/main/NLP_LSTM_News_Title_Classification_Alvin_Rachmat.ipynb\" target=\"_parent\"><img src=\"https://colab.research.google.com/assets/colab-badge.svg\" alt=\"Open In Colab\"/></a>"
      ]
    },
    {
      "cell_type": "markdown",
      "metadata": {
        "id": "NfFTCr13iH2h"
      },
      "source": [
        "**Alvin Rachmat**\n",
        "\n",
        "**NLP-LSTM : News Title Classification**"
      ]
    },
    {
      "cell_type": "code",
      "metadata": {
        "id": "hry5pZp6BbW_",
        "colab": {
          "base_uri": "https://localhost:8080/"
        },
        "outputId": "7980bc85-c07f-4fa5-b873-a8c6e5fb078a"
      },
      "source": [
        "import pandas as pd\n",
        "import numpy as np\n",
        "import tensorflow as tf\n",
        "\n",
        "!pip install contractions\n",
        "import re\n",
        "import contractions\n",
        "import nltk\n",
        "nltk.download('stopwords')\n",
        "\n",
        "from tensorflow.keras.preprocessing.text import Tokenizer\n",
        "from tensorflow.keras.preprocessing.sequence import pad_sequences\n",
        "from sklearn.model_selection import train_test_split\n",
        "\n",
        "import matplotlib.pyplot as plt"
      ],
      "execution_count": 1,
      "outputs": [
        {
          "output_type": "stream",
          "text": [
            "Collecting contractions\n",
            "  Downloading https://files.pythonhosted.org/packages/93/f4/0ec4a458e4368cc3be2c799411ecf0bc961930e566dadb9624563821b3a6/contractions-0.0.52-py2.py3-none-any.whl\n",
            "Collecting textsearch>=0.0.21\n",
            "  Downloading https://files.pythonhosted.org/packages/d3/fe/021d7d76961b5ceb9f8d022c4138461d83beff36c3938dc424586085e559/textsearch-0.0.21-py2.py3-none-any.whl\n",
            "Collecting pyahocorasick\n",
            "\u001b[?25l  Downloading https://files.pythonhosted.org/packages/7f/c2/eae730037ae1cbbfaa229d27030d1d5e34a1e41114b21447d1202ae9c220/pyahocorasick-1.4.2.tar.gz (321kB)\n",
            "\u001b[K     |████████████████████████████████| 327kB 35.3MB/s \n",
            "\u001b[?25hCollecting anyascii\n",
            "\u001b[?25l  Downloading https://files.pythonhosted.org/packages/a3/14/666cd44bf53f36a961544af592cb5c5c800013f9c51a4745af8d7c17362a/anyascii-0.2.0-py3-none-any.whl (283kB)\n",
            "\u001b[K     |████████████████████████████████| 286kB 46.8MB/s \n",
            "\u001b[?25hBuilding wheels for collected packages: pyahocorasick\n",
            "  Building wheel for pyahocorasick (setup.py) ... \u001b[?25l\u001b[?25hdone\n",
            "  Created wheel for pyahocorasick: filename=pyahocorasick-1.4.2-cp37-cp37m-linux_x86_64.whl size=85397 sha256=f99bf96052264a1dc23032271289abd339edd21b071f0a553f10998ba56548cc\n",
            "  Stored in directory: /root/.cache/pip/wheels/3a/03/34/77e3ece0bba8b86bfac88a79f923b36d805cad63caeba38842\n",
            "Successfully built pyahocorasick\n",
            "Installing collected packages: pyahocorasick, anyascii, textsearch, contractions\n",
            "Successfully installed anyascii-0.2.0 contractions-0.0.52 pyahocorasick-1.4.2 textsearch-0.0.21\n",
            "[nltk_data] Downloading package stopwords to /root/nltk_data...\n",
            "[nltk_data]   Unzipping corpora/stopwords.zip.\n"
          ],
          "name": "stdout"
        }
      ]
    },
    {
      "cell_type": "code",
      "metadata": {
        "id": "um1CSW28BfES",
        "colab": {
          "base_uri": "https://localhost:8080/"
        },
        "outputId": "a0a258a2-c3f8-492b-cae8-daab2e3422ef"
      },
      "source": [
        "url = 'https://drive.google.com/file/d/1GRg1E-3eYkTwMkaFEy4khaTSeoboSOw5/view?usp=sharing'\n",
        "dwn_url = 'https://drive.google.com/uc?id=' + url.split('/')[-2]\n",
        "d = pd.read_excel(dwn_url)\n",
        "len(d)"
      ],
      "execution_count": 2,
      "outputs": [
        {
          "output_type": "execute_result",
          "data": {
            "text/plain": [
              "65535"
            ]
          },
          "metadata": {
            "tags": []
          },
          "execution_count": 2
        }
      ]
    },
    {
      "cell_type": "markdown",
      "metadata": {
        "id": "poFUWiWZBi_r"
      },
      "source": [
        "Just use some of the data, since there is a bug of LSTM which in a certain amount point of data, will result error (in my plain jupyter) or will result in extremely significant raise of train time (colab)\n",
        "https://github.com/tensorflow/tensorflow/issues/33721"
      ]
    },
    {
      "cell_type": "code",
      "metadata": {
        "colab": {
          "base_uri": "https://localhost:8080/",
          "height": 414
        },
        "id": "575a5481",
        "outputId": "75c2912a-e308-45ba-cba5-27fe84fff9f3"
      },
      "source": [
        "d=d.iloc[:52000,:]\n",
        "d = d.drop('No',1)\n",
        "d"
      ],
      "execution_count": 3,
      "outputs": [
        {
          "output_type": "execute_result",
          "data": {
            "text/html": [
              "<div>\n",
              "<style scoped>\n",
              "    .dataframe tbody tr th:only-of-type {\n",
              "        vertical-align: middle;\n",
              "    }\n",
              "\n",
              "    .dataframe tbody tr th {\n",
              "        vertical-align: top;\n",
              "    }\n",
              "\n",
              "    .dataframe thead th {\n",
              "        text-align: right;\n",
              "    }\n",
              "</style>\n",
              "<table border=\"1\" class=\"dataframe\">\n",
              "  <thead>\n",
              "    <tr style=\"text-align: right;\">\n",
              "      <th></th>\n",
              "      <th>News Title</th>\n",
              "      <th>Category</th>\n",
              "    </tr>\n",
              "  </thead>\n",
              "  <tbody>\n",
              "    <tr>\n",
              "      <th>0</th>\n",
              "      <td>Google+ rolls out 'Stories' for tricked out ph...</td>\n",
              "      <td>Technology</td>\n",
              "    </tr>\n",
              "    <tr>\n",
              "      <th>1</th>\n",
              "      <td>Dov Charney's Redeeming Quality</td>\n",
              "      <td>Business</td>\n",
              "    </tr>\n",
              "    <tr>\n",
              "      <th>2</th>\n",
              "      <td>White God adds Un Certain Regard to the Palm Dog</td>\n",
              "      <td>Entertainment</td>\n",
              "    </tr>\n",
              "    <tr>\n",
              "      <th>3</th>\n",
              "      <td>Google shows off Androids for wearables, cars,...</td>\n",
              "      <td>Technology</td>\n",
              "    </tr>\n",
              "    <tr>\n",
              "      <th>4</th>\n",
              "      <td>China May new bank loans at 870.8 bln yuan</td>\n",
              "      <td>Business</td>\n",
              "    </tr>\n",
              "    <tr>\n",
              "      <th>...</th>\n",
              "      <td>...</td>\n",
              "      <td>...</td>\n",
              "    </tr>\n",
              "    <tr>\n",
              "      <th>51995</th>\n",
              "      <td>MH370: poor conditions hamper search for debri...</td>\n",
              "      <td>Business</td>\n",
              "    </tr>\n",
              "    <tr>\n",
              "      <th>51996</th>\n",
              "      <td>Tech stocks, Nasdaq take a tumble</td>\n",
              "      <td>Business</td>\n",
              "    </tr>\n",
              "    <tr>\n",
              "      <th>51997</th>\n",
              "      <td>Climate Action Plan - Strategy to Cut Methane ...</td>\n",
              "      <td>Business</td>\n",
              "    </tr>\n",
              "    <tr>\n",
              "      <th>51998</th>\n",
              "      <td>Breakthrough: Living materials created by MIT ...</td>\n",
              "      <td>Technology</td>\n",
              "    </tr>\n",
              "    <tr>\n",
              "      <th>51999</th>\n",
              "      <td>Kate Middleton's bare bottom has been photogra...</td>\n",
              "      <td>Entertainment</td>\n",
              "    </tr>\n",
              "  </tbody>\n",
              "</table>\n",
              "<p>52000 rows × 2 columns</p>\n",
              "</div>"
            ],
            "text/plain": [
              "                                              News Title       Category\n",
              "0      Google+ rolls out 'Stories' for tricked out ph...     Technology\n",
              "1                        Dov Charney's Redeeming Quality       Business\n",
              "2       White God adds Un Certain Regard to the Palm Dog  Entertainment\n",
              "3      Google shows off Androids for wearables, cars,...     Technology\n",
              "4             China May new bank loans at 870.8 bln yuan       Business\n",
              "...                                                  ...            ...\n",
              "51995  MH370: poor conditions hamper search for debri...       Business\n",
              "51996                  Tech stocks, Nasdaq take a tumble       Business\n",
              "51997  Climate Action Plan - Strategy to Cut Methane ...       Business\n",
              "51998  Breakthrough: Living materials created by MIT ...     Technology\n",
              "51999  Kate Middleton's bare bottom has been photogra...  Entertainment\n",
              "\n",
              "[52000 rows x 2 columns]"
            ]
          },
          "metadata": {
            "tags": []
          },
          "execution_count": 3
        }
      ]
    },
    {
      "cell_type": "code",
      "metadata": {
        "id": "557e90f4"
      },
      "source": [
        "# Cleaning the texts\n",
        "def txtprocess(txt):\n",
        "    # Lower the texts\n",
        "    txt = str(txt).lower()\n",
        "    # Remove contractions\n",
        "    txt = contractions.fix(txt)\n",
        "    \n",
        "    # Just pick the alphabet\n",
        "    txt = re.sub(r'[^a-zA-Z]', ' ', txt)\n",
        "    # Fix unnecessary space\n",
        "    txt = re.sub(' +', ' ', txt)\n",
        "    \n",
        "    txt = ' '.join(txt.split())\n",
        "    \n",
        "    return txt\n",
        "\n",
        "d['News Title'] = d['News Title'].apply(txtprocess)"
      ],
      "execution_count": 4,
      "outputs": []
    },
    {
      "cell_type": "code",
      "metadata": {
        "id": "f2c38f47"
      },
      "source": [
        "# Cleaning stopwords. Omit the negative maker words (I found this quite effective on this case)\n",
        "stop_words = set(nltk.corpus.stopwords.words('english'))\n",
        "stop_words.remove('no')\n",
        "stop_words.remove('not')\n",
        "stop_words.remove('but')\n",
        "\n",
        "def remove_stopwords(txt):\n",
        "    no_stopword_txt = [w for w in txt.split() if not w in stop_words]\n",
        "    return ' '.join(no_stopword_txt)\n",
        "\n",
        "d['News Title'] = d['News Title'].apply(lambda x: remove_stopwords(x))"
      ],
      "execution_count": 5,
      "outputs": []
    },
    {
      "cell_type": "code",
      "metadata": {
        "colab": {
          "base_uri": "https://localhost:8080/",
          "height": 414
        },
        "id": "b34ceb06",
        "outputId": "b5e7c4ae-3d5f-4a93-9b37-a3829cd50ce1"
      },
      "source": [
        "# Create new table consists of dummified label\n",
        "category = pd.get_dummies(d.Category)\n",
        "d_new = pd.concat([d, category], axis=1)\n",
        "d_new = d_new.drop('Category',1)\n",
        "d_new"
      ],
      "execution_count": 6,
      "outputs": [
        {
          "output_type": "execute_result",
          "data": {
            "text/html": [
              "<div>\n",
              "<style scoped>\n",
              "    .dataframe tbody tr th:only-of-type {\n",
              "        vertical-align: middle;\n",
              "    }\n",
              "\n",
              "    .dataframe tbody tr th {\n",
              "        vertical-align: top;\n",
              "    }\n",
              "\n",
              "    .dataframe thead th {\n",
              "        text-align: right;\n",
              "    }\n",
              "</style>\n",
              "<table border=\"1\" class=\"dataframe\">\n",
              "  <thead>\n",
              "    <tr style=\"text-align: right;\">\n",
              "      <th></th>\n",
              "      <th>News Title</th>\n",
              "      <th>Business</th>\n",
              "      <th>Entertainment</th>\n",
              "      <th>Medical</th>\n",
              "      <th>Technology</th>\n",
              "    </tr>\n",
              "  </thead>\n",
              "  <tbody>\n",
              "    <tr>\n",
              "      <th>0</th>\n",
              "      <td>google rolls stories tricked photo playback</td>\n",
              "      <td>0</td>\n",
              "      <td>0</td>\n",
              "      <td>0</td>\n",
              "      <td>1</td>\n",
              "    </tr>\n",
              "    <tr>\n",
              "      <th>1</th>\n",
              "      <td>dov charney redeeming quality</td>\n",
              "      <td>1</td>\n",
              "      <td>0</td>\n",
              "      <td>0</td>\n",
              "      <td>0</td>\n",
              "    </tr>\n",
              "    <tr>\n",
              "      <th>2</th>\n",
              "      <td>white god adds un certain regard palm dog</td>\n",
              "      <td>0</td>\n",
              "      <td>1</td>\n",
              "      <td>0</td>\n",
              "      <td>0</td>\n",
              "    </tr>\n",
              "    <tr>\n",
              "      <th>3</th>\n",
              "      <td>google shows androids wearables cars tvs</td>\n",
              "      <td>0</td>\n",
              "      <td>0</td>\n",
              "      <td>0</td>\n",
              "      <td>1</td>\n",
              "    </tr>\n",
              "    <tr>\n",
              "      <th>4</th>\n",
              "      <td>china may new bank loans bln yuan</td>\n",
              "      <td>1</td>\n",
              "      <td>0</td>\n",
              "      <td>0</td>\n",
              "      <td>0</td>\n",
              "    </tr>\n",
              "    <tr>\n",
              "      <th>...</th>\n",
              "      <td>...</td>\n",
              "      <td>...</td>\n",
              "      <td>...</td>\n",
              "      <td>...</td>\n",
              "      <td>...</td>\n",
              "    </tr>\n",
              "    <tr>\n",
              "      <th>51995</th>\n",
              "      <td>mh poor conditions hamper search debris indian...</td>\n",
              "      <td>1</td>\n",
              "      <td>0</td>\n",
              "      <td>0</td>\n",
              "      <td>0</td>\n",
              "    </tr>\n",
              "    <tr>\n",
              "      <th>51996</th>\n",
              "      <td>tech stocks nasdaq take tumble</td>\n",
              "      <td>1</td>\n",
              "      <td>0</td>\n",
              "      <td>0</td>\n",
              "      <td>0</td>\n",
              "    </tr>\n",
              "    <tr>\n",
              "      <th>51997</th>\n",
              "      <td>climate action plan strategy cut methane emiss...</td>\n",
              "      <td>1</td>\n",
              "      <td>0</td>\n",
              "      <td>0</td>\n",
              "      <td>0</td>\n",
              "    </tr>\n",
              "    <tr>\n",
              "      <th>51998</th>\n",
              "      <td>breakthrough living materials created mit scie...</td>\n",
              "      <td>0</td>\n",
              "      <td>0</td>\n",
              "      <td>0</td>\n",
              "      <td>1</td>\n",
              "    </tr>\n",
              "    <tr>\n",
              "      <th>51999</th>\n",
              "      <td>kate middleton bare bottom photographed but best</td>\n",
              "      <td>0</td>\n",
              "      <td>1</td>\n",
              "      <td>0</td>\n",
              "      <td>0</td>\n",
              "    </tr>\n",
              "  </tbody>\n",
              "</table>\n",
              "<p>52000 rows × 5 columns</p>\n",
              "</div>"
            ],
            "text/plain": [
              "                                              News Title  ...  Technology\n",
              "0            google rolls stories tricked photo playback  ...           1\n",
              "1                          dov charney redeeming quality  ...           0\n",
              "2              white god adds un certain regard palm dog  ...           0\n",
              "3               google shows androids wearables cars tvs  ...           1\n",
              "4                      china may new bank loans bln yuan  ...           0\n",
              "...                                                  ...  ...         ...\n",
              "51995  mh poor conditions hamper search debris indian...  ...           0\n",
              "51996                     tech stocks nasdaq take tumble  ...           0\n",
              "51997  climate action plan strategy cut methane emiss...  ...           0\n",
              "51998  breakthrough living materials created mit scie...  ...           1\n",
              "51999   kate middleton bare bottom photographed but best  ...           0\n",
              "\n",
              "[52000 rows x 5 columns]"
            ]
          },
          "metadata": {
            "tags": []
          },
          "execution_count": 6
        }
      ]
    },
    {
      "cell_type": "code",
      "metadata": {
        "id": "u0hY9xX-lyxr"
      },
      "source": [
        "# Get data as array\n",
        "title = d_new['News Title'].values\n",
        "label = d_new[category.columns].values\n",
        "title_train, title_test, y_train, y_test = train_test_split(title, label, test_size=0.2, random_state=42)"
      ],
      "execution_count": 7,
      "outputs": []
    },
    {
      "cell_type": "code",
      "metadata": {
        "id": "j0xJDisdlyx4"
      },
      "source": [
        "# Mark the uncategorized words as -\n",
        "# Don't let the test data be fitted also (dont let test data know the train data)\n",
        "tokenizer = Tokenizer(num_words=None, oov_token='-')\n",
        "tokenizer.fit_on_texts(title_train)\n",
        " \n",
        "sekuens_train = tokenizer.texts_to_sequences(title_train)\n",
        "sekuens_test = tokenizer.texts_to_sequences(title_test)\n",
        " \n",
        "padded_train = pad_sequences(sekuens_train)\n",
        "padded_test = pad_sequences(sekuens_test)"
      ],
      "execution_count": 8,
      "outputs": []
    },
    {
      "cell_type": "code",
      "metadata": {
        "colab": {
          "base_uri": "https://localhost:8080/"
        },
        "id": "fb2557b9",
        "outputId": "db7da8cf-dd51-4dc7-9ab6-10a917121390"
      },
      "source": [
        "# As reminder to the shape of the padded_train\n",
        "sekuens_train[:5], padded_train"
      ],
      "execution_count": 9,
      "outputs": [
        {
          "output_type": "execute_result",
          "data": {
            "text/plain": [
              "([[2221, 1074, 10720, 216, 4121, 110],\n",
              "  [512, 1661, 439, 1572, 6373, 7913, 6374],\n",
              "  [15, 371, 26, 2080, 500],\n",
              "  [1492, 13, 36, 5022, 1761, 3917, 145],\n",
              "  [22, 21, 67, 34, 540, 501, 10721, 717, 2339, 2589]],\n",
              " array([[   0,    0,    0, ...,  216, 4121,  110],\n",
              "        [   0,    0,    0, ..., 6373, 7913, 6374],\n",
              "        [   0,    0,    0, ...,   26, 2080,  500],\n",
              "        ...,\n",
              "        [   0,    0,    0, ...,  107,  111,  222],\n",
              "        [   0,    0,    0, ..., 1293, 7120,  410],\n",
              "        [   0,    0,    0, ..., 1062,  883,   14]], dtype=int32))"
            ]
          },
          "metadata": {
            "tags": []
          },
          "execution_count": 9
        }
      ]
    },
    {
      "cell_type": "code",
      "metadata": {
        "colab": {
          "base_uri": "https://localhost:8080/"
        },
        "id": "4aZ-wrzpoPl_",
        "outputId": "171e2c13-593b-47c4-9111-e672de757ec7"
      },
      "source": [
        "# Length of each tokenized data\n",
        "# The size of input nodes, or input length in embedding layer (if use flatten after that) (use train)\n",
        "len(padded_train[1]), len(padded_test[1])"
      ],
      "execution_count": 10,
      "outputs": [
        {
          "output_type": "execute_result",
          "data": {
            "text/plain": [
              "(103, 13)"
            ]
          },
          "metadata": {
            "tags": []
          },
          "execution_count": 10
        }
      ]
    },
    {
      "cell_type": "code",
      "metadata": {
        "id": "ojh3pjgDoR1W",
        "colab": {
          "base_uri": "https://localhost:8080/"
        },
        "outputId": "d5e1933d-dbe7-45a7-b2ac-d2ac53cb016d"
      },
      "source": [
        "## Length of the data\n",
        "len(padded_train), len(padded_test)"
      ],
      "execution_count": 11,
      "outputs": [
        {
          "output_type": "execute_result",
          "data": {
            "text/plain": [
              "(41600, 10400)"
            ]
          },
          "metadata": {
            "tags": []
          },
          "execution_count": 11
        }
      ]
    },
    {
      "cell_type": "code",
      "metadata": {
        "colab": {
          "base_uri": "https://localhost:8080/"
        },
        "id": "618e8483",
        "outputId": "e5088d7d-952a-442c-ba3d-e6ff90081e58"
      },
      "source": [
        "# Check word index of the tokenized data\n",
        "print(dict(list(tokenizer.word_index.items())[:30]))"
      ],
      "execution_count": 20,
      "outputs": [
        {
          "output_type": "stream",
          "text": [
            "{'-': 1, 'new': 2, 'us': 3, 'not': 4, 'google': 5, 'apple': 6, 'video': 7, 'says': 8, 'first': 9, 'samsung': 10, 'may': 11, 'one': 12, 'facebook': 13, 'report': 14, 'microsoft': 15, 'star': 16, 'watch': 17, 'galaxy': 18, 'china': 19, 'day': 20, 'kardashian': 21, 'kim': 22, 'season': 23, 'review': 24, 'but': 25, 'deal': 26, 'million': 27, 'game': 28, 'amazon': 29, 'world': 30}\n"
          ],
          "name": "stdout"
        }
      ]
    },
    {
      "cell_type": "code",
      "metadata": {
        "colab": {
          "base_uri": "https://localhost:8080/"
        },
        "id": "853e46b7",
        "outputId": "ae666066-013c-4d43-e11d-4c5c778533ca"
      },
      "source": [
        "# Richness of the words\n",
        "len(tokenizer.word_index)"
      ],
      "execution_count": null,
      "outputs": [
        {
          "output_type": "execute_result",
          "data": {
            "text/plain": [
              "21946"
            ]
          },
          "metadata": {
            "tags": []
          },
          "execution_count": 17
        }
      ]
    },
    {
      "cell_type": "markdown",
      "metadata": {
        "id": "uRsLPM-zM4z9"
      },
      "source": [
        "https://towardsdatascience.com/choosing-the-right-hyperparameters-for-a-simple-lstm-using-keras-f8e9ed76f046"
      ]
    },
    {
      "cell_type": "code",
      "metadata": {
        "colab": {
          "base_uri": "https://localhost:8080/"
        },
        "id": "_SLTGg1dFgig",
        "outputId": "775dbf2b-b7c4-450b-cddd-e490de92d101"
      },
      "source": [
        "# to decide LSTM hidden nodes\n",
        "hidden_nodes = int(2/3 * (len(padded_train[1]) * len(category.columns)))\n",
        "hidden_nodes"
      ],
      "execution_count": null,
      "outputs": [
        {
          "output_type": "execute_result",
          "data": {
            "text/plain": [
              "274"
            ]
          },
          "metadata": {
            "tags": []
          },
          "execution_count": 18
        }
      ]
    },
    {
      "cell_type": "markdown",
      "metadata": {
        "id": "dFNwVYoIFLaZ"
      },
      "source": [
        "https://stats.stackexchange.com/questions/181/how-to-choose-the-number-of-hidden-layers-and-nodes-in-a-feedforward-neural-netw/136542#136542"
      ]
    },
    {
      "cell_type": "code",
      "metadata": {
        "id": "BgkChOpDov7w",
        "colab": {
          "base_uri": "https://localhost:8080/"
        },
        "outputId": "c395cbb3-c75d-4b75-e59d-8291a518ec8b"
      },
      "source": [
        "# another way to decide LSTM hidden nodes\n",
        "# alpha 5-10, some say its 2-10\n",
        "alpha = 10\n",
        "hidden_nodes = int(len(padded_train)/(alpha*(len(padded_train[1]) * len(category.columns))))\n",
        "hidden_nodes"
      ],
      "execution_count": null,
      "outputs": [
        {
          "output_type": "execute_result",
          "data": {
            "text/plain": [
              "10"
            ]
          },
          "metadata": {
            "tags": []
          },
          "execution_count": 20
        }
      ]
    },
    {
      "cell_type": "markdown",
      "metadata": {
        "id": "ec5a9ddd"
      },
      "source": [
        "https://stats.stackexchange.com/questions/270546/how-does-keras-embedding-layer-work\n",
        "\n",
        "https://forums.fast.ai/t/embedding-layer-size-rule/50691/13"
      ]
    },
    {
      "cell_type": "code",
      "metadata": {
        "id": "deafda1d"
      },
      "source": [
        "# Let the indicator that has been scrutinized kept as markdown\n",
        "# Note for myself: Next time, document all the tries with a train-val-loss-accuracy plot, each trial attach the model code\n",
        "model = tf.keras.Sequential([\n",
        "    tf.keras.layers.Embedding(input_dim=len(tokenizer.word_index)+1, output_dim=500),#(input_dim=len(tokenizer.word_index)+2, output_dim=500),\n",
        "    tf.keras.layers.LSTM(hidden_nodes, dropout=0.96),#, kernel_regularizer=tf.keras.regularizers.l2(0.01)),#, recurrent_dropout=0.3),\n",
        "    # tf.keras.layers.Dropout(0.5),\n",
        "    # tf.keras.layers.Dense(56, activation='relu'),\n",
        "    # tf.keras.layers.Dropout(0.5),\n",
        "    # tf.keras.layers.Dense(16, activation='relu'),\n",
        "    # tf.keras.layers.Dropout(0.3),\n",
        "    tf.keras.layers.Dense(4, activation='softmax')\n",
        "])\n",
        "model.compile(loss='categorical_crossentropy',optimizer='adam',metrics=['accuracy'])"
      ],
      "execution_count": null,
      "outputs": []
    },
    {
      "cell_type": "code",
      "metadata": {
        "colab": {
          "base_uri": "https://localhost:8080/"
        },
        "id": "vFR7kJmrvazB",
        "outputId": "6199e8f5-d1c9-40bd-9066-a962ab44610c"
      },
      "source": [
        "set_callback = tf.keras.callbacks.EarlyStopping(monitor='val_accuracy', patience=10)\n",
        "\n",
        "history = model.fit(padded_train, y_train, epochs=60, batch_size=128,\n",
        "                    validation_data=(padded_test, y_test), callbacks=[set_callback], verbose=2)"
      ],
      "execution_count": null,
      "outputs": [
        {
          "output_type": "stream",
          "text": [
            "Epoch 1/60\n",
            "325/325 - 48s - loss: 1.0929 - accuracy: 0.5242 - val_loss: 0.5951 - val_accuracy: 0.7986\n",
            "Epoch 2/60\n",
            "325/325 - 45s - loss: 0.5551 - accuracy: 0.8039 - val_loss: 0.3654 - val_accuracy: 0.8832\n",
            "Epoch 3/60\n",
            "325/325 - 45s - loss: 0.4052 - accuracy: 0.8603 - val_loss: 0.3051 - val_accuracy: 0.8995\n",
            "Epoch 4/60\n",
            "325/325 - 45s - loss: 0.3438 - accuracy: 0.8820 - val_loss: 0.2756 - val_accuracy: 0.9075\n",
            "Epoch 5/60\n",
            "325/325 - 45s - loss: 0.3003 - accuracy: 0.8969 - val_loss: 0.2587 - val_accuracy: 0.9127\n",
            "Epoch 6/60\n",
            "325/325 - 45s - loss: 0.2741 - accuracy: 0.9056 - val_loss: 0.2467 - val_accuracy: 0.9173\n",
            "Epoch 7/60\n",
            "325/325 - 45s - loss: 0.2549 - accuracy: 0.9122 - val_loss: 0.2424 - val_accuracy: 0.9194\n",
            "Epoch 8/60\n",
            "325/325 - 45s - loss: 0.2353 - accuracy: 0.9192 - val_loss: 0.2359 - val_accuracy: 0.9217\n",
            "Epoch 9/60\n",
            "325/325 - 45s - loss: 0.2245 - accuracy: 0.9217 - val_loss: 0.2313 - val_accuracy: 0.9242\n",
            "Epoch 10/60\n",
            "325/325 - 45s - loss: 0.2135 - accuracy: 0.9269 - val_loss: 0.2307 - val_accuracy: 0.9237\n",
            "Epoch 11/60\n",
            "325/325 - 45s - loss: 0.2041 - accuracy: 0.9297 - val_loss: 0.2276 - val_accuracy: 0.9249\n",
            "Epoch 12/60\n",
            "325/325 - 45s - loss: 0.1940 - accuracy: 0.9323 - val_loss: 0.2289 - val_accuracy: 0.9259\n",
            "Epoch 13/60\n",
            "325/325 - 45s - loss: 0.1866 - accuracy: 0.9356 - val_loss: 0.2267 - val_accuracy: 0.9272\n",
            "Epoch 14/60\n",
            "325/325 - 45s - loss: 0.1817 - accuracy: 0.9373 - val_loss: 0.2252 - val_accuracy: 0.9270\n",
            "Epoch 15/60\n",
            "325/325 - 45s - loss: 0.1758 - accuracy: 0.9381 - val_loss: 0.2256 - val_accuracy: 0.9275\n",
            "Epoch 16/60\n",
            "325/325 - 45s - loss: 0.1693 - accuracy: 0.9408 - val_loss: 0.2254 - val_accuracy: 0.9280\n",
            "Epoch 17/60\n",
            "325/325 - 45s - loss: 0.1632 - accuracy: 0.9434 - val_loss: 0.2295 - val_accuracy: 0.9273\n",
            "Epoch 18/60\n",
            "325/325 - 45s - loss: 0.1585 - accuracy: 0.9444 - val_loss: 0.2293 - val_accuracy: 0.9292\n",
            "Epoch 19/60\n",
            "325/325 - 45s - loss: 0.1552 - accuracy: 0.9469 - val_loss: 0.2274 - val_accuracy: 0.9291\n",
            "Epoch 20/60\n",
            "325/325 - 45s - loss: 0.1509 - accuracy: 0.9485 - val_loss: 0.2265 - val_accuracy: 0.9285\n",
            "Epoch 21/60\n",
            "325/325 - 45s - loss: 0.1484 - accuracy: 0.9489 - val_loss: 0.2297 - val_accuracy: 0.9279\n",
            "Epoch 22/60\n",
            "325/325 - 45s - loss: 0.1462 - accuracy: 0.9494 - val_loss: 0.2303 - val_accuracy: 0.9274\n",
            "Epoch 23/60\n",
            "325/325 - 45s - loss: 0.1438 - accuracy: 0.9505 - val_loss: 0.2309 - val_accuracy: 0.9276\n",
            "Epoch 24/60\n",
            "325/325 - 45s - loss: 0.1408 - accuracy: 0.9510 - val_loss: 0.2286 - val_accuracy: 0.9280\n",
            "Epoch 25/60\n",
            "325/325 - 45s - loss: 0.1376 - accuracy: 0.9530 - val_loss: 0.2291 - val_accuracy: 0.9289\n",
            "Epoch 26/60\n",
            "325/325 - 44s - loss: 0.1339 - accuracy: 0.9533 - val_loss: 0.2331 - val_accuracy: 0.9282\n",
            "Epoch 27/60\n",
            "325/325 - 44s - loss: 0.1351 - accuracy: 0.9531 - val_loss: 0.2317 - val_accuracy: 0.9289\n",
            "Epoch 28/60\n",
            "325/325 - 44s - loss: 0.1287 - accuracy: 0.9555 - val_loss: 0.2359 - val_accuracy: 0.9282\n"
          ],
          "name": "stdout"
        }
      ]
    },
    {
      "cell_type": "code",
      "metadata": {
        "id": "mKTc_uA_1_qj",
        "colab": {
          "base_uri": "https://localhost:8080/",
          "height": 404
        },
        "outputId": "08584aae-ff4a-41cb-ee3c-45dd5abc74c4"
      },
      "source": [
        "# Plotting loss and accuracy, train and validation, each epoch\n",
        "pd.DataFrame(history.history).plot(figsize=(9,6))\n",
        "plt.xlabel('Epoch')\n",
        "plt.title('Accuracy and Loss Graph')\n",
        "plt.grid()"
      ],
      "execution_count": null,
      "outputs": [
        {
          "output_type": "display_data",
          "data": {
            "image/png": "[encoded data removed]",
            "text/plain": [
              "<Figure size 648x432 with 1 Axes>"
            ]
          },
          "metadata": {
            "tags": [],
            "needs_background": "light"
          }
        }
      ]
    }
  ]
}