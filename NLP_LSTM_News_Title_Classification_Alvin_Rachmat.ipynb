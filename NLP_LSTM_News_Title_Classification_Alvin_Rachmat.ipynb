{
  "nbformat": 4,
  "nbformat_minor": 0,
  "metadata": {
    "colab": {
      "name": "NLP-LSTM : News Title Classification - Alvin Rachmat",
      "provenance": [],
      "include_colab_link": true
    },
    "kernelspec": {
      "name": "python3",
      "display_name": "Python 3"
    },
    "language_info": {
      "name": "python"
    },
    "accelerator": "GPU"
  },
  "cells": [
    {
      "cell_type": "markdown",
      "metadata": {
        "id": "view-in-github",
        "colab_type": "text"
      },
      "source": [
        "<a href=\"https://colab.research.google.com/github/alvinrach/24-NLP-LSTM-News-Title-Classification/blob/main/NLP_LSTM_News_Title_Classification_Alvin_Rachmat.ipynb\" target=\"_parent\"><img src=\"https://colab.research.google.com/assets/colab-badge.svg\" alt=\"Open In Colab\"/></a>"
      ]
    },
    {
      "cell_type": "markdown",
      "metadata": {
        "id": "NfFTCr13iH2h"
      },
      "source": [
        "**Alvin Rachmat**\n",
        "\n",
        "**NLP-LSTM : News Title Classification**"
      ]
    },
    {
      "cell_type": "code",
      "metadata": {
        "id": "hry5pZp6BbW_",
        "colab": {
          "base_uri": "https://localhost:8080/"
        },
        "outputId": "4c8bcdd0-21f8-4506-e214-872eee96d09f"
      },
      "source": [
        "import pandas as pd\n",
        "import numpy as np\n",
        "import tensorflow as tf\n",
        "\n",
        "!pip install contractions\n",
        "import re\n",
        "import contractions\n",
        "import nltk\n",
        "nltk.download('stopwords')\n",
        "\n",
        "from tensorflow.keras.preprocessing.text import Tokenizer\n",
        "from tensorflow.keras.preprocessing.sequence import pad_sequences\n",
        "from sklearn.model_selection import train_test_split\n",
        "\n",
        "import matplotlib.pyplot as plt"
      ],
      "execution_count": 1,
      "outputs": [
        {
          "output_type": "stream",
          "name": "stdout",
          "text": [
            "Collecting contractions\n",
            "  Downloading contractions-0.1.73-py2.py3-none-any.whl.metadata (1.2 kB)\n",
            "Collecting textsearch>=0.0.21 (from contractions)\n",
            "  Downloading textsearch-0.0.24-py2.py3-none-any.whl.metadata (1.2 kB)\n",
            "Collecting anyascii (from textsearch>=0.0.21->contractions)\n",
            "  Downloading anyascii-0.3.2-py3-none-any.whl.metadata (1.5 kB)\n",
            "Collecting pyahocorasick (from textsearch>=0.0.21->contractions)\n",
            "  Downloading pyahocorasick-2.1.0-cp310-cp310-manylinux_2_5_x86_64.manylinux1_x86_64.manylinux_2_12_x86_64.manylinux2010_x86_64.whl.metadata (13 kB)\n",
            "Downloading contractions-0.1.73-py2.py3-none-any.whl (8.7 kB)\n",
            "Downloading textsearch-0.0.24-py2.py3-none-any.whl (7.6 kB)\n",
            "Downloading anyascii-0.3.2-py3-none-any.whl (289 kB)\n",
            "\u001b[2K   \u001b[90m━━━━━━━━━━━━━━━━━━━━━━━━━━━━━━━━━━━━━━━━\u001b[0m \u001b[32m289.9/289.9 kB\u001b[0m \u001b[31m14.1 MB/s\u001b[0m eta \u001b[36m0:00:00\u001b[0m\n",
            "\u001b[?25hDownloading pyahocorasick-2.1.0-cp310-cp310-manylinux_2_5_x86_64.manylinux1_x86_64.manylinux_2_12_x86_64.manylinux2010_x86_64.whl (110 kB)\n",
            "\u001b[2K   \u001b[90m━━━━━━━━━━━━━━━━━━━━━━━━━━━━━━━━━━━━━━━━\u001b[0m \u001b[32m110.7/110.7 kB\u001b[0m \u001b[31m6.6 MB/s\u001b[0m eta \u001b[36m0:00:00\u001b[0m\n",
            "\u001b[?25hInstalling collected packages: pyahocorasick, anyascii, textsearch, contractions\n",
            "Successfully installed anyascii-0.3.2 contractions-0.1.73 pyahocorasick-2.1.0 textsearch-0.0.24\n"
          ]
        },
        {
          "output_type": "stream",
          "name": "stderr",
          "text": [
            "[nltk_data] Downloading package stopwords to /root/nltk_data...\n",
            "[nltk_data]   Unzipping corpora/stopwords.zip.\n"
          ]
        }
      ]
    },
    {
      "cell_type": "code",
      "metadata": {
        "id": "um1CSW28BfES",
        "colab": {
          "base_uri": "https://localhost:8080/"
        },
        "outputId": "e65f9dcd-b3ee-4683-e123-064d80ec114b"
      },
      "source": [
        "url = 'https://drive.google.com/file/d/1GRg1E-3eYkTwMkaFEy4khaTSeoboSOw5/view?usp=sharing'\n",
        "dwn_url = 'https://drive.google.com/uc?id=' + url.split('/')[-2]\n",
        "d = pd.read_excel(dwn_url)\n",
        "len(d)"
      ],
      "execution_count": 14,
      "outputs": [
        {
          "output_type": "execute_result",
          "data": {
            "text/plain": [
              "65535"
            ]
          },
          "metadata": {},
          "execution_count": 14
        }
      ]
    },
    {
      "cell_type": "markdown",
      "metadata": {
        "id": "poFUWiWZBi_r"
      },
      "source": [
        "Just use some of the data, since there is a bug of LSTM which in a certain amount point of data, will result error (in my plain jupyter) or will result in extremely significant raise of train time (colab)\n",
        "https://github.com/tensorflow/tensorflow/issues/33721"
      ]
    },
    {
      "cell_type": "code",
      "metadata": {
        "colab": {
          "base_uri": "https://localhost:8080/",
          "height": 423
        },
        "id": "575a5481",
        "outputId": "c1480c6d-5607-475e-9805-8043fa3170a9"
      },
      "source": [
        "d=d.iloc[:52000,:]\n",
        "d = d.drop('No', axis=1)\n",
        "d"
      ],
      "execution_count": 15,
      "outputs": [
        {
          "output_type": "execute_result",
          "data": {
            "text/plain": [
              "                                              News Title       Category\n",
              "0      Google+ rolls out 'Stories' for tricked out ph...     Technology\n",
              "1                        Dov Charney's Redeeming Quality       Business\n",
              "2       White God adds Un Certain Regard to the Palm Dog  Entertainment\n",
              "3      Google shows off Androids for wearables, cars,...     Technology\n",
              "4             China May new bank loans at 870.8 bln yuan       Business\n",
              "...                                                  ...            ...\n",
              "51995  MH370: poor conditions hamper search for debri...       Business\n",
              "51996                  Tech stocks, Nasdaq take a tumble       Business\n",
              "51997  Climate Action Plan - Strategy to Cut Methane ...       Business\n",
              "51998  Breakthrough: Living materials created by MIT ...     Technology\n",
              "51999  Kate Middleton's bare bottom has been photogra...  Entertainment\n",
              "\n",
              "[52000 rows x 2 columns]"
            ],
            "text/html": [
              "\n",
              "  <div id=\"df-2d32b8a9-1185-475c-ba97-0d5c1e7e23d5\" class=\"colab-df-container\">\n",
              "    <div>\n",
              "<style scoped>\n",
              "    .dataframe tbody tr th:only-of-type {\n",
              "        vertical-align: middle;\n",
              "    }\n",
              "\n",
              "    .dataframe tbody tr th {\n",
              "        vertical-align: top;\n",
              "    }\n",
              "\n",
              "    .dataframe thead th {\n",
              "        text-align: right;\n",
              "    }\n",
              "</style>\n",
              "<table border=\"1\" class=\"dataframe\">\n",
              "  <thead>\n",
              "    <tr style=\"text-align: right;\">\n",
              "      <th></th>\n",
              "      <th>News Title</th>\n",
              "      <th>Category</th>\n",
              "    </tr>\n",
              "  </thead>\n",
              "  <tbody>\n",
              "    <tr>\n",
              "      <th>0</th>\n",
              "      <td>Google+ rolls out 'Stories' for tricked out ph...</td>\n",
              "      <td>Technology</td>\n",
              "    </tr>\n",
              "    <tr>\n",
              "      <th>1</th>\n",
              "      <td>Dov Charney's Redeeming Quality</td>\n",
              "      <td>Business</td>\n",
              "    </tr>\n",
              "    <tr>\n",
              "      <th>2</th>\n",
              "      <td>White God adds Un Certain Regard to the Palm Dog</td>\n",
              "      <td>Entertainment</td>\n",
              "    </tr>\n",
              "    <tr>\n",
              "      <th>3</th>\n",
              "      <td>Google shows off Androids for wearables, cars,...</td>\n",
              "      <td>Technology</td>\n",
              "    </tr>\n",
              "    <tr>\n",
              "      <th>4</th>\n",
              "      <td>China May new bank loans at 870.8 bln yuan</td>\n",
              "      <td>Business</td>\n",
              "    </tr>\n",
              "    <tr>\n",
              "      <th>...</th>\n",
              "      <td>...</td>\n",
              "      <td>...</td>\n",
              "    </tr>\n",
              "    <tr>\n",
              "      <th>51995</th>\n",
              "      <td>MH370: poor conditions hamper search for debri...</td>\n",
              "      <td>Business</td>\n",
              "    </tr>\n",
              "    <tr>\n",
              "      <th>51996</th>\n",
              "      <td>Tech stocks, Nasdaq take a tumble</td>\n",
              "      <td>Business</td>\n",
              "    </tr>\n",
              "    <tr>\n",
              "      <th>51997</th>\n",
              "      <td>Climate Action Plan - Strategy to Cut Methane ...</td>\n",
              "      <td>Business</td>\n",
              "    </tr>\n",
              "    <tr>\n",
              "      <th>51998</th>\n",
              "      <td>Breakthrough: Living materials created by MIT ...</td>\n",
              "      <td>Technology</td>\n",
              "    </tr>\n",
              "    <tr>\n",
              "      <th>51999</th>\n",
              "      <td>Kate Middleton's bare bottom has been photogra...</td>\n",
              "      <td>Entertainment</td>\n",
              "    </tr>\n",
              "  </tbody>\n",
              "</table>\n",
              "<p>52000 rows × 2 columns</p>\n",
              "</div>\n",
              "    <div class=\"colab-df-buttons\">\n",
              "\n",
              "  <div class=\"colab-df-container\">\n",
              "    <button class=\"colab-df-convert\" onclick=\"convertToInteractive('df-2d32b8a9-1185-475c-ba97-0d5c1e7e23d5')\"\n",
              "            title=\"Convert this dataframe to an interactive table.\"\n",
              "            style=\"display:none;\">\n",
              "\n",
              "  <svg xmlns=\"http://www.w3.org/2000/svg\" height=\"24px\" viewBox=\"0 -960 960 960\">\n",
              "    <path d=\"M120-120v-720h720v720H120Zm60-500h600v-160H180v160Zm220 220h160v-160H400v160Zm0 220h160v-160H400v160ZM180-400h160v-160H180v160Zm440 0h160v-160H620v160ZM180-180h160v-160H180v160Zm440 0h160v-160H620v160Z\"/>\n",
              "  </svg>\n",
              "    </button>\n",
              "\n",
              "  <style>\n",
              "    .colab-df-container {\n",
              "      display:flex;\n",
              "      gap: 12px;\n",
              "    }\n",
              "\n",
              "    .colab-df-convert {\n",
              "      background-color: #E8F0FE;\n",
              "      border: none;\n",
              "      border-radius: 50%;\n",
              "      cursor: pointer;\n",
              "      display: none;\n",
              "      fill: #1967D2;\n",
              "      height: 32px;\n",
              "      padding: 0 0 0 0;\n",
              "      width: 32px;\n",
              "    }\n",
              "\n",
              "    .colab-df-convert:hover {\n",
              "      background-color: #E2EBFA;\n",
              "      box-shadow: 0px 1px 2px rgba(60, 64, 67, 0.3), 0px 1px 3px 1px rgba(60, 64, 67, 0.15);\n",
              "      fill: #174EA6;\n",
              "    }\n",
              "\n",
              "    .colab-df-buttons div {\n",
              "      margin-bottom: 4px;\n",
              "    }\n",
              "\n",
              "    [theme=dark] .colab-df-convert {\n",
              "      background-color: #3B4455;\n",
              "      fill: #D2E3FC;\n",
              "    }\n",
              "\n",
              "    [theme=dark] .colab-df-convert:hover {\n",
              "      background-color: #434B5C;\n",
              "      box-shadow: 0px 1px 3px 1px rgba(0, 0, 0, 0.15);\n",
              "      filter: drop-shadow(0px 1px 2px rgba(0, 0, 0, 0.3));\n",
              "      fill: #FFFFFF;\n",
              "    }\n",
              "  </style>\n",
              "\n",
              "    <script>\n",
              "      const buttonEl =\n",
              "        document.querySelector('#df-2d32b8a9-1185-475c-ba97-0d5c1e7e23d5 button.colab-df-convert');\n",
              "      buttonEl.style.display =\n",
              "        google.colab.kernel.accessAllowed ? 'block' : 'none';\n",
              "\n",
              "      async function convertToInteractive(key) {\n",
              "        const element = document.querySelector('#df-2d32b8a9-1185-475c-ba97-0d5c1e7e23d5');\n",
              "        const dataTable =\n",
              "          await google.colab.kernel.invokeFunction('convertToInteractive',\n",
              "                                                    [key], {});\n",
              "        if (!dataTable) return;\n",
              "\n",
              "        const docLinkHtml = 'Like what you see? Visit the ' +\n",
              "          '<a target=\"_blank\" href=https://colab.research.google.com/notebooks/data_table.ipynb>data table notebook</a>'\n",
              "          + ' to learn more about interactive tables.';\n",
              "        element.innerHTML = '';\n",
              "        dataTable['output_type'] = 'display_data';\n",
              "        await google.colab.output.renderOutput(dataTable, element);\n",
              "        const docLink = document.createElement('div');\n",
              "        docLink.innerHTML = docLinkHtml;\n",
              "        element.appendChild(docLink);\n",
              "      }\n",
              "    </script>\n",
              "  </div>\n",
              "\n",
              "\n",
              "<div id=\"df-a4c056fb-9bc6-4d41-b095-bf37fb6f2723\">\n",
              "  <button class=\"colab-df-quickchart\" onclick=\"quickchart('df-a4c056fb-9bc6-4d41-b095-bf37fb6f2723')\"\n",
              "            title=\"Suggest charts\"\n",
              "            style=\"display:none;\">\n",
              "\n",
              "<svg xmlns=\"http://www.w3.org/2000/svg\" height=\"24px\"viewBox=\"0 0 24 24\"\n",
              "     width=\"24px\">\n",
              "    <g>\n",
              "        <path d=\"M19 3H5c-1.1 0-2 .9-2 2v14c0 1.1.9 2 2 2h14c1.1 0 2-.9 2-2V5c0-1.1-.9-2-2-2zM9 17H7v-7h2v7zm4 0h-2V7h2v10zm4 0h-2v-4h2v4z\"/>\n",
              "    </g>\n",
              "</svg>\n",
              "  </button>\n",
              "\n",
              "<style>\n",
              "  .colab-df-quickchart {\n",
              "      --bg-color: #E8F0FE;\n",
              "      --fill-color: #1967D2;\n",
              "      --hover-bg-color: #E2EBFA;\n",
              "      --hover-fill-color: #174EA6;\n",
              "      --disabled-fill-color: #AAA;\n",
              "      --disabled-bg-color: #DDD;\n",
              "  }\n",
              "\n",
              "  [theme=dark] .colab-df-quickchart {\n",
              "      --bg-color: #3B4455;\n",
              "      --fill-color: #D2E3FC;\n",
              "      --hover-bg-color: #434B5C;\n",
              "      --hover-fill-color: #FFFFFF;\n",
              "      --disabled-bg-color: #3B4455;\n",
              "      --disabled-fill-color: #666;\n",
              "  }\n",
              "\n",
              "  .colab-df-quickchart {\n",
              "    background-color: var(--bg-color);\n",
              "    border: none;\n",
              "    border-radius: 50%;\n",
              "    cursor: pointer;\n",
              "    display: none;\n",
              "    fill: var(--fill-color);\n",
              "    height: 32px;\n",
              "    padding: 0;\n",
              "    width: 32px;\n",
              "  }\n",
              "\n",
              "  .colab-df-quickchart:hover {\n",
              "    background-color: var(--hover-bg-color);\n",
              "    box-shadow: 0 1px 2px rgba(60, 64, 67, 0.3), 0 1px 3px 1px rgba(60, 64, 67, 0.15);\n",
              "    fill: var(--button-hover-fill-color);\n",
              "  }\n",
              "\n",
              "  .colab-df-quickchart-complete:disabled,\n",
              "  .colab-df-quickchart-complete:disabled:hover {\n",
              "    background-color: var(--disabled-bg-color);\n",
              "    fill: var(--disabled-fill-color);\n",
              "    box-shadow: none;\n",
              "  }\n",
              "\n",
              "  .colab-df-spinner {\n",
              "    border: 2px solid var(--fill-color);\n",
              "    border-color: transparent;\n",
              "    border-bottom-color: var(--fill-color);\n",
              "    animation:\n",
              "      spin 1s steps(1) infinite;\n",
              "  }\n",
              "\n",
              "  @keyframes spin {\n",
              "    0% {\n",
              "      border-color: transparent;\n",
              "      border-bottom-color: var(--fill-color);\n",
              "      border-left-color: var(--fill-color);\n",
              "    }\n",
              "    20% {\n",
              "      border-color: transparent;\n",
              "      border-left-color: var(--fill-color);\n",
              "      border-top-color: var(--fill-color);\n",
              "    }\n",
              "    30% {\n",
              "      border-color: transparent;\n",
              "      border-left-color: var(--fill-color);\n",
              "      border-top-color: var(--fill-color);\n",
              "      border-right-color: var(--fill-color);\n",
              "    }\n",
              "    40% {\n",
              "      border-color: transparent;\n",
              "      border-right-color: var(--fill-color);\n",
              "      border-top-color: var(--fill-color);\n",
              "    }\n",
              "    60% {\n",
              "      border-color: transparent;\n",
              "      border-right-color: var(--fill-color);\n",
              "    }\n",
              "    80% {\n",
              "      border-color: transparent;\n",
              "      border-right-color: var(--fill-color);\n",
              "      border-bottom-color: var(--fill-color);\n",
              "    }\n",
              "    90% {\n",
              "      border-color: transparent;\n",
              "      border-bottom-color: var(--fill-color);\n",
              "    }\n",
              "  }\n",
              "</style>\n",
              "\n",
              "  <script>\n",
              "    async function quickchart(key) {\n",
              "      const quickchartButtonEl =\n",
              "        document.querySelector('#' + key + ' button');\n",
              "      quickchartButtonEl.disabled = true;  // To prevent multiple clicks.\n",
              "      quickchartButtonEl.classList.add('colab-df-spinner');\n",
              "      try {\n",
              "        const charts = await google.colab.kernel.invokeFunction(\n",
              "            'suggestCharts', [key], {});\n",
              "      } catch (error) {\n",
              "        console.error('Error during call to suggestCharts:', error);\n",
              "      }\n",
              "      quickchartButtonEl.classList.remove('colab-df-spinner');\n",
              "      quickchartButtonEl.classList.add('colab-df-quickchart-complete');\n",
              "    }\n",
              "    (() => {\n",
              "      let quickchartButtonEl =\n",
              "        document.querySelector('#df-a4c056fb-9bc6-4d41-b095-bf37fb6f2723 button');\n",
              "      quickchartButtonEl.style.display =\n",
              "        google.colab.kernel.accessAllowed ? 'block' : 'none';\n",
              "    })();\n",
              "  </script>\n",
              "</div>\n",
              "\n",
              "  <div id=\"id_12f25fa4-8b02-406f-b48c-ffd0a87cf4c6\">\n",
              "    <style>\n",
              "      .colab-df-generate {\n",
              "        background-color: #E8F0FE;\n",
              "        border: none;\n",
              "        border-radius: 50%;\n",
              "        cursor: pointer;\n",
              "        display: none;\n",
              "        fill: #1967D2;\n",
              "        height: 32px;\n",
              "        padding: 0 0 0 0;\n",
              "        width: 32px;\n",
              "      }\n",
              "\n",
              "      .colab-df-generate:hover {\n",
              "        background-color: #E2EBFA;\n",
              "        box-shadow: 0px 1px 2px rgba(60, 64, 67, 0.3), 0px 1px 3px 1px rgba(60, 64, 67, 0.15);\n",
              "        fill: #174EA6;\n",
              "      }\n",
              "\n",
              "      [theme=dark] .colab-df-generate {\n",
              "        background-color: #3B4455;\n",
              "        fill: #D2E3FC;\n",
              "      }\n",
              "\n",
              "      [theme=dark] .colab-df-generate:hover {\n",
              "        background-color: #434B5C;\n",
              "        box-shadow: 0px 1px 3px 1px rgba(0, 0, 0, 0.15);\n",
              "        filter: drop-shadow(0px 1px 2px rgba(0, 0, 0, 0.3));\n",
              "        fill: #FFFFFF;\n",
              "      }\n",
              "    </style>\n",
              "    <button class=\"colab-df-generate\" onclick=\"generateWithVariable('d')\"\n",
              "            title=\"Generate code using this dataframe.\"\n",
              "            style=\"display:none;\">\n",
              "\n",
              "  <svg xmlns=\"http://www.w3.org/2000/svg\" height=\"24px\"viewBox=\"0 0 24 24\"\n",
              "       width=\"24px\">\n",
              "    <path d=\"M7,19H8.4L18.45,9,17,7.55,7,17.6ZM5,21V16.75L18.45,3.32a2,2,0,0,1,2.83,0l1.4,1.43a1.91,1.91,0,0,1,.58,1.4,1.91,1.91,0,0,1-.58,1.4L9.25,21ZM18.45,9,17,7.55Zm-12,3A5.31,5.31,0,0,0,4.9,8.1,5.31,5.31,0,0,0,1,6.5,5.31,5.31,0,0,0,4.9,4.9,5.31,5.31,0,0,0,6.5,1,5.31,5.31,0,0,0,8.1,4.9,5.31,5.31,0,0,0,12,6.5,5.46,5.46,0,0,0,6.5,12Z\"/>\n",
              "  </svg>\n",
              "    </button>\n",
              "    <script>\n",
              "      (() => {\n",
              "      const buttonEl =\n",
              "        document.querySelector('#id_12f25fa4-8b02-406f-b48c-ffd0a87cf4c6 button.colab-df-generate');\n",
              "      buttonEl.style.display =\n",
              "        google.colab.kernel.accessAllowed ? 'block' : 'none';\n",
              "\n",
              "      buttonEl.onclick = () => {\n",
              "        google.colab.notebook.generateWithVariable('d');\n",
              "      }\n",
              "      })();\n",
              "    </script>\n",
              "  </div>\n",
              "\n",
              "    </div>\n",
              "  </div>\n"
            ],
            "application/vnd.google.colaboratory.intrinsic+json": {
              "type": "dataframe",
              "variable_name": "d",
              "summary": "{\n  \"name\": \"d\",\n  \"rows\": 52000,\n  \"fields\": [\n    {\n      \"column\": \"News Title\",\n      \"properties\": {\n        \"dtype\": \"string\",\n        \"num_unique_values\": 51638,\n        \"samples\": [\n          \"UPDATE 4-Brent up near $113 on supply worries as Iraq violence rises\",\n          \"Obamacare Deadline Extended, but Should You Wait?\",\n          \"Jet Magazine to Shift to Digital Publishing Next Month\"\n        ],\n        \"semantic_type\": \"\",\n        \"description\": \"\"\n      }\n    },\n    {\n      \"column\": \"Category\",\n      \"properties\": {\n        \"dtype\": \"category\",\n        \"num_unique_values\": 4,\n        \"samples\": [\n          \"Business\",\n          \"Medical\",\n          \"Technology\"\n        ],\n        \"semantic_type\": \"\",\n        \"description\": \"\"\n      }\n    }\n  ]\n}"
            }
          },
          "metadata": {},
          "execution_count": 15
        }
      ]
    },
    {
      "cell_type": "code",
      "metadata": {
        "id": "557e90f4"
      },
      "source": [
        "# Cleaning the texts\n",
        "def txtprocess(txt):\n",
        "    # Lower the texts\n",
        "    txt = str(txt).lower()\n",
        "    # Remove contractions\n",
        "    txt = contractions.fix(txt)\n",
        "\n",
        "    # Just pick the alphabet\n",
        "    txt = re.sub(r'[^a-zA-Z]', ' ', txt)\n",
        "    # Fix unnecessary space\n",
        "    txt = re.sub(' +', ' ', txt)\n",
        "\n",
        "    txt = ' '.join(txt.split())\n",
        "\n",
        "    return txt\n",
        "\n",
        "d['News Title'] = d['News Title'].apply(txtprocess)"
      ],
      "execution_count": 16,
      "outputs": []
    },
    {
      "cell_type": "code",
      "metadata": {
        "id": "f2c38f47"
      },
      "source": [
        "# Cleaning stopwords. Omit the negative maker words (I found this quite effective on this case)\n",
        "stop_words = set(nltk.corpus.stopwords.words('english'))\n",
        "stop_words.remove('no')\n",
        "stop_words.remove('not')\n",
        "stop_words.remove('but')\n",
        "\n",
        "def remove_stopwords(txt):\n",
        "    no_stopword_txt = [w for w in txt.split() if not w in stop_words]\n",
        "    return ' '.join(no_stopword_txt)\n",
        "\n",
        "d['News Title'] = d['News Title'].apply(lambda x: remove_stopwords(x))"
      ],
      "execution_count": 17,
      "outputs": []
    },
    {
      "cell_type": "code",
      "metadata": {
        "colab": {
          "base_uri": "https://localhost:8080/",
          "height": 423
        },
        "id": "b34ceb06",
        "outputId": "0de9d991-218a-4f55-809e-43de7f36256e"
      },
      "source": [
        "# Create new table consists of dummified label\n",
        "category = pd.get_dummies(d.Category)\n",
        "d_new = pd.concat([d, category], axis=1)\n",
        "d_new = d_new.drop('Category',axis=1)\n",
        "d_new"
      ],
      "execution_count": 18,
      "outputs": [
        {
          "output_type": "execute_result",
          "data": {
            "text/plain": [
              "                                              News Title  Business  \\\n",
              "0            google rolls stories tricked photo playback     False   \n",
              "1                          dov charney redeeming quality      True   \n",
              "2              white god adds un certain regard palm dog     False   \n",
              "3               google shows androids wearables cars tvs     False   \n",
              "4                      china may new bank loans bln yuan      True   \n",
              "...                                                  ...       ...   \n",
              "51995  mh poor conditions hamper search debris indian...      True   \n",
              "51996                     tech stocks nasdaq take tumble      True   \n",
              "51997  climate action plan strategy cut methane emiss...      True   \n",
              "51998  breakthrough living materials created mit scie...     False   \n",
              "51999   kate middleton bare bottom photographed but best     False   \n",
              "\n",
              "       Entertainment  Medical  Technology  \n",
              "0              False    False        True  \n",
              "1              False    False       False  \n",
              "2               True    False       False  \n",
              "3              False    False        True  \n",
              "4              False    False       False  \n",
              "...              ...      ...         ...  \n",
              "51995          False    False       False  \n",
              "51996          False    False       False  \n",
              "51997          False    False       False  \n",
              "51998          False    False        True  \n",
              "51999           True    False       False  \n",
              "\n",
              "[52000 rows x 5 columns]"
            ],
            "text/html": [
              "\n",
              "  <div id=\"df-dff182bc-e5c7-47b6-87fe-d6d6e89a6a13\" class=\"colab-df-container\">\n",
              "    <div>\n",
              "<style scoped>\n",
              "    .dataframe tbody tr th:only-of-type {\n",
              "        vertical-align: middle;\n",
              "    }\n",
              "\n",
              "    .dataframe tbody tr th {\n",
              "        vertical-align: top;\n",
              "    }\n",
              "\n",
              "    .dataframe thead th {\n",
              "        text-align: right;\n",
              "    }\n",
              "</style>\n",
              "<table border=\"1\" class=\"dataframe\">\n",
              "  <thead>\n",
              "    <tr style=\"text-align: right;\">\n",
              "      <th></th>\n",
              "      <th>News Title</th>\n",
              "      <th>Business</th>\n",
              "      <th>Entertainment</th>\n",
              "      <th>Medical</th>\n",
              "      <th>Technology</th>\n",
              "    </tr>\n",
              "  </thead>\n",
              "  <tbody>\n",
              "    <tr>\n",
              "      <th>0</th>\n",
              "      <td>google rolls stories tricked photo playback</td>\n",
              "      <td>False</td>\n",
              "      <td>False</td>\n",
              "      <td>False</td>\n",
              "      <td>True</td>\n",
              "    </tr>\n",
              "    <tr>\n",
              "      <th>1</th>\n",
              "      <td>dov charney redeeming quality</td>\n",
              "      <td>True</td>\n",
              "      <td>False</td>\n",
              "      <td>False</td>\n",
              "      <td>False</td>\n",
              "    </tr>\n",
              "    <tr>\n",
              "      <th>2</th>\n",
              "      <td>white god adds un certain regard palm dog</td>\n",
              "      <td>False</td>\n",
              "      <td>True</td>\n",
              "      <td>False</td>\n",
              "      <td>False</td>\n",
              "    </tr>\n",
              "    <tr>\n",
              "      <th>3</th>\n",
              "      <td>google shows androids wearables cars tvs</td>\n",
              "      <td>False</td>\n",
              "      <td>False</td>\n",
              "      <td>False</td>\n",
              "      <td>True</td>\n",
              "    </tr>\n",
              "    <tr>\n",
              "      <th>4</th>\n",
              "      <td>china may new bank loans bln yuan</td>\n",
              "      <td>True</td>\n",
              "      <td>False</td>\n",
              "      <td>False</td>\n",
              "      <td>False</td>\n",
              "    </tr>\n",
              "    <tr>\n",
              "      <th>...</th>\n",
              "      <td>...</td>\n",
              "      <td>...</td>\n",
              "      <td>...</td>\n",
              "      <td>...</td>\n",
              "      <td>...</td>\n",
              "    </tr>\n",
              "    <tr>\n",
              "      <th>51995</th>\n",
              "      <td>mh poor conditions hamper search debris indian...</td>\n",
              "      <td>True</td>\n",
              "      <td>False</td>\n",
              "      <td>False</td>\n",
              "      <td>False</td>\n",
              "    </tr>\n",
              "    <tr>\n",
              "      <th>51996</th>\n",
              "      <td>tech stocks nasdaq take tumble</td>\n",
              "      <td>True</td>\n",
              "      <td>False</td>\n",
              "      <td>False</td>\n",
              "      <td>False</td>\n",
              "    </tr>\n",
              "    <tr>\n",
              "      <th>51997</th>\n",
              "      <td>climate action plan strategy cut methane emiss...</td>\n",
              "      <td>True</td>\n",
              "      <td>False</td>\n",
              "      <td>False</td>\n",
              "      <td>False</td>\n",
              "    </tr>\n",
              "    <tr>\n",
              "      <th>51998</th>\n",
              "      <td>breakthrough living materials created mit scie...</td>\n",
              "      <td>False</td>\n",
              "      <td>False</td>\n",
              "      <td>False</td>\n",
              "      <td>True</td>\n",
              "    </tr>\n",
              "    <tr>\n",
              "      <th>51999</th>\n",
              "      <td>kate middleton bare bottom photographed but best</td>\n",
              "      <td>False</td>\n",
              "      <td>True</td>\n",
              "      <td>False</td>\n",
              "      <td>False</td>\n",
              "    </tr>\n",
              "  </tbody>\n",
              "</table>\n",
              "<p>52000 rows × 5 columns</p>\n",
              "</div>\n",
              "    <div class=\"colab-df-buttons\">\n",
              "\n",
              "  <div class=\"colab-df-container\">\n",
              "    <button class=\"colab-df-convert\" onclick=\"convertToInteractive('df-dff182bc-e5c7-47b6-87fe-d6d6e89a6a13')\"\n",
              "            title=\"Convert this dataframe to an interactive table.\"\n",
              "            style=\"display:none;\">\n",
              "\n",
              "  <svg xmlns=\"http://www.w3.org/2000/svg\" height=\"24px\" viewBox=\"0 -960 960 960\">\n",
              "    <path d=\"M120-120v-720h720v720H120Zm60-500h600v-160H180v160Zm220 220h160v-160H400v160Zm0 220h160v-160H400v160ZM180-400h160v-160H180v160Zm440 0h160v-160H620v160ZM180-180h160v-160H180v160Zm440 0h160v-160H620v160Z\"/>\n",
              "  </svg>\n",
              "    </button>\n",
              "\n",
              "  <style>\n",
              "    .colab-df-container {\n",
              "      display:flex;\n",
              "      gap: 12px;\n",
              "    }\n",
              "\n",
              "    .colab-df-convert {\n",
              "      background-color: #E8F0FE;\n",
              "      border: none;\n",
              "      border-radius: 50%;\n",
              "      cursor: pointer;\n",
              "      display: none;\n",
              "      fill: #1967D2;\n",
              "      height: 32px;\n",
              "      padding: 0 0 0 0;\n",
              "      width: 32px;\n",
              "    }\n",
              "\n",
              "    .colab-df-convert:hover {\n",
              "      background-color: #E2EBFA;\n",
              "      box-shadow: 0px 1px 2px rgba(60, 64, 67, 0.3), 0px 1px 3px 1px rgba(60, 64, 67, 0.15);\n",
              "      fill: #174EA6;\n",
              "    }\n",
              "\n",
              "    .colab-df-buttons div {\n",
              "      margin-bottom: 4px;\n",
              "    }\n",
              "\n",
              "    [theme=dark] .colab-df-convert {\n",
              "      background-color: #3B4455;\n",
              "      fill: #D2E3FC;\n",
              "    }\n",
              "\n",
              "    [theme=dark] .colab-df-convert:hover {\n",
              "      background-color: #434B5C;\n",
              "      box-shadow: 0px 1px 3px 1px rgba(0, 0, 0, 0.15);\n",
              "      filter: drop-shadow(0px 1px 2px rgba(0, 0, 0, 0.3));\n",
              "      fill: #FFFFFF;\n",
              "    }\n",
              "  </style>\n",
              "\n",
              "    <script>\n",
              "      const buttonEl =\n",
              "        document.querySelector('#df-dff182bc-e5c7-47b6-87fe-d6d6e89a6a13 button.colab-df-convert');\n",
              "      buttonEl.style.display =\n",
              "        google.colab.kernel.accessAllowed ? 'block' : 'none';\n",
              "\n",
              "      async function convertToInteractive(key) {\n",
              "        const element = document.querySelector('#df-dff182bc-e5c7-47b6-87fe-d6d6e89a6a13');\n",
              "        const dataTable =\n",
              "          await google.colab.kernel.invokeFunction('convertToInteractive',\n",
              "                                                    [key], {});\n",
              "        if (!dataTable) return;\n",
              "\n",
              "        const docLinkHtml = 'Like what you see? Visit the ' +\n",
              "          '<a target=\"_blank\" href=https://colab.research.google.com/notebooks/data_table.ipynb>data table notebook</a>'\n",
              "          + ' to learn more about interactive tables.';\n",
              "        element.innerHTML = '';\n",
              "        dataTable['output_type'] = 'display_data';\n",
              "        await google.colab.output.renderOutput(dataTable, element);\n",
              "        const docLink = document.createElement('div');\n",
              "        docLink.innerHTML = docLinkHtml;\n",
              "        element.appendChild(docLink);\n",
              "      }\n",
              "    </script>\n",
              "  </div>\n",
              "\n",
              "\n",
              "<div id=\"df-5ea05e0e-179b-4d4e-b221-af201434421e\">\n",
              "  <button class=\"colab-df-quickchart\" onclick=\"quickchart('df-5ea05e0e-179b-4d4e-b221-af201434421e')\"\n",
              "            title=\"Suggest charts\"\n",
              "            style=\"display:none;\">\n",
              "\n",
              "<svg xmlns=\"http://www.w3.org/2000/svg\" height=\"24px\"viewBox=\"0 0 24 24\"\n",
              "     width=\"24px\">\n",
              "    <g>\n",
              "        <path d=\"M19 3H5c-1.1 0-2 .9-2 2v14c0 1.1.9 2 2 2h14c1.1 0 2-.9 2-2V5c0-1.1-.9-2-2-2zM9 17H7v-7h2v7zm4 0h-2V7h2v10zm4 0h-2v-4h2v4z\"/>\n",
              "    </g>\n",
              "</svg>\n",
              "  </button>\n",
              "\n",
              "<style>\n",
              "  .colab-df-quickchart {\n",
              "      --bg-color: #E8F0FE;\n",
              "      --fill-color: #1967D2;\n",
              "      --hover-bg-color: #E2EBFA;\n",
              "      --hover-fill-color: #174EA6;\n",
              "      --disabled-fill-color: #AAA;\n",
              "      --disabled-bg-color: #DDD;\n",
              "  }\n",
              "\n",
              "  [theme=dark] .colab-df-quickchart {\n",
              "      --bg-color: #3B4455;\n",
              "      --fill-color: #D2E3FC;\n",
              "      --hover-bg-color: #434B5C;\n",
              "      --hover-fill-color: #FFFFFF;\n",
              "      --disabled-bg-color: #3B4455;\n",
              "      --disabled-fill-color: #666;\n",
              "  }\n",
              "\n",
              "  .colab-df-quickchart {\n",
              "    background-color: var(--bg-color);\n",
              "    border: none;\n",
              "    border-radius: 50%;\n",
              "    cursor: pointer;\n",
              "    display: none;\n",
              "    fill: var(--fill-color);\n",
              "    height: 32px;\n",
              "    padding: 0;\n",
              "    width: 32px;\n",
              "  }\n",
              "\n",
              "  .colab-df-quickchart:hover {\n",
              "    background-color: var(--hover-bg-color);\n",
              "    box-shadow: 0 1px 2px rgba(60, 64, 67, 0.3), 0 1px 3px 1px rgba(60, 64, 67, 0.15);\n",
              "    fill: var(--button-hover-fill-color);\n",
              "  }\n",
              "\n",
              "  .colab-df-quickchart-complete:disabled,\n",
              "  .colab-df-quickchart-complete:disabled:hover {\n",
              "    background-color: var(--disabled-bg-color);\n",
              "    fill: var(--disabled-fill-color);\n",
              "    box-shadow: none;\n",
              "  }\n",
              "\n",
              "  .colab-df-spinner {\n",
              "    border: 2px solid var(--fill-color);\n",
              "    border-color: transparent;\n",
              "    border-bottom-color: var(--fill-color);\n",
              "    animation:\n",
              "      spin 1s steps(1) infinite;\n",
              "  }\n",
              "\n",
              "  @keyframes spin {\n",
              "    0% {\n",
              "      border-color: transparent;\n",
              "      border-bottom-color: var(--fill-color);\n",
              "      border-left-color: var(--fill-color);\n",
              "    }\n",
              "    20% {\n",
              "      border-color: transparent;\n",
              "      border-left-color: var(--fill-color);\n",
              "      border-top-color: var(--fill-color);\n",
              "    }\n",
              "    30% {\n",
              "      border-color: transparent;\n",
              "      border-left-color: var(--fill-color);\n",
              "      border-top-color: var(--fill-color);\n",
              "      border-right-color: var(--fill-color);\n",
              "    }\n",
              "    40% {\n",
              "      border-color: transparent;\n",
              "      border-right-color: var(--fill-color);\n",
              "      border-top-color: var(--fill-color);\n",
              "    }\n",
              "    60% {\n",
              "      border-color: transparent;\n",
              "      border-right-color: var(--fill-color);\n",
              "    }\n",
              "    80% {\n",
              "      border-color: transparent;\n",
              "      border-right-color: var(--fill-color);\n",
              "      border-bottom-color: var(--fill-color);\n",
              "    }\n",
              "    90% {\n",
              "      border-color: transparent;\n",
              "      border-bottom-color: var(--fill-color);\n",
              "    }\n",
              "  }\n",
              "</style>\n",
              "\n",
              "  <script>\n",
              "    async function quickchart(key) {\n",
              "      const quickchartButtonEl =\n",
              "        document.querySelector('#' + key + ' button');\n",
              "      quickchartButtonEl.disabled = true;  // To prevent multiple clicks.\n",
              "      quickchartButtonEl.classList.add('colab-df-spinner');\n",
              "      try {\n",
              "        const charts = await google.colab.kernel.invokeFunction(\n",
              "            'suggestCharts', [key], {});\n",
              "      } catch (error) {\n",
              "        console.error('Error during call to suggestCharts:', error);\n",
              "      }\n",
              "      quickchartButtonEl.classList.remove('colab-df-spinner');\n",
              "      quickchartButtonEl.classList.add('colab-df-quickchart-complete');\n",
              "    }\n",
              "    (() => {\n",
              "      let quickchartButtonEl =\n",
              "        document.querySelector('#df-5ea05e0e-179b-4d4e-b221-af201434421e button');\n",
              "      quickchartButtonEl.style.display =\n",
              "        google.colab.kernel.accessAllowed ? 'block' : 'none';\n",
              "    })();\n",
              "  </script>\n",
              "</div>\n",
              "\n",
              "  <div id=\"id_6e9e3b9c-9820-4d21-a88b-37a1ee0c54cb\">\n",
              "    <style>\n",
              "      .colab-df-generate {\n",
              "        background-color: #E8F0FE;\n",
              "        border: none;\n",
              "        border-radius: 50%;\n",
              "        cursor: pointer;\n",
              "        display: none;\n",
              "        fill: #1967D2;\n",
              "        height: 32px;\n",
              "        padding: 0 0 0 0;\n",
              "        width: 32px;\n",
              "      }\n",
              "\n",
              "      .colab-df-generate:hover {\n",
              "        background-color: #E2EBFA;\n",
              "        box-shadow: 0px 1px 2px rgba(60, 64, 67, 0.3), 0px 1px 3px 1px rgba(60, 64, 67, 0.15);\n",
              "        fill: #174EA6;\n",
              "      }\n",
              "\n",
              "      [theme=dark] .colab-df-generate {\n",
              "        background-color: #3B4455;\n",
              "        fill: #D2E3FC;\n",
              "      }\n",
              "\n",
              "      [theme=dark] .colab-df-generate:hover {\n",
              "        background-color: #434B5C;\n",
              "        box-shadow: 0px 1px 3px 1px rgba(0, 0, 0, 0.15);\n",
              "        filter: drop-shadow(0px 1px 2px rgba(0, 0, 0, 0.3));\n",
              "        fill: #FFFFFF;\n",
              "      }\n",
              "    </style>\n",
              "    <button class=\"colab-df-generate\" onclick=\"generateWithVariable('d_new')\"\n",
              "            title=\"Generate code using this dataframe.\"\n",
              "            style=\"display:none;\">\n",
              "\n",
              "  <svg xmlns=\"http://www.w3.org/2000/svg\" height=\"24px\"viewBox=\"0 0 24 24\"\n",
              "       width=\"24px\">\n",
              "    <path d=\"M7,19H8.4L18.45,9,17,7.55,7,17.6ZM5,21V16.75L18.45,3.32a2,2,0,0,1,2.83,0l1.4,1.43a1.91,1.91,0,0,1,.58,1.4,1.91,1.91,0,0,1-.58,1.4L9.25,21ZM18.45,9,17,7.55Zm-12,3A5.31,5.31,0,0,0,4.9,8.1,5.31,5.31,0,0,0,1,6.5,5.31,5.31,0,0,0,4.9,4.9,5.31,5.31,0,0,0,6.5,1,5.31,5.31,0,0,0,8.1,4.9,5.31,5.31,0,0,0,12,6.5,5.46,5.46,0,0,0,6.5,12Z\"/>\n",
              "  </svg>\n",
              "    </button>\n",
              "    <script>\n",
              "      (() => {\n",
              "      const buttonEl =\n",
              "        document.querySelector('#id_6e9e3b9c-9820-4d21-a88b-37a1ee0c54cb button.colab-df-generate');\n",
              "      buttonEl.style.display =\n",
              "        google.colab.kernel.accessAllowed ? 'block' : 'none';\n",
              "\n",
              "      buttonEl.onclick = () => {\n",
              "        google.colab.notebook.generateWithVariable('d_new');\n",
              "      }\n",
              "      })();\n",
              "    </script>\n",
              "  </div>\n",
              "\n",
              "    </div>\n",
              "  </div>\n"
            ],
            "application/vnd.google.colaboratory.intrinsic+json": {
              "type": "dataframe",
              "variable_name": "d_new",
              "summary": "{\n  \"name\": \"d_new\",\n  \"rows\": 52000,\n  \"fields\": [\n    {\n      \"column\": \"News Title\",\n      \"properties\": {\n        \"dtype\": \"string\",\n        \"num_unique_values\": 51308,\n        \"samples\": [\n          \"birthday girl lady gaga performs final roseland ballroom shows\",\n          \"gas prices nebraska continue fall\",\n          \"tj wilkins sings waiting world change voice top live show\"\n        ],\n        \"semantic_type\": \"\",\n        \"description\": \"\"\n      }\n    },\n    {\n      \"column\": \"Business\",\n      \"properties\": {\n        \"dtype\": \"boolean\",\n        \"num_unique_values\": 2,\n        \"samples\": [\n          true,\n          false\n        ],\n        \"semantic_type\": \"\",\n        \"description\": \"\"\n      }\n    },\n    {\n      \"column\": \"Entertainment\",\n      \"properties\": {\n        \"dtype\": \"boolean\",\n        \"num_unique_values\": 2,\n        \"samples\": [\n          true,\n          false\n        ],\n        \"semantic_type\": \"\",\n        \"description\": \"\"\n      }\n    },\n    {\n      \"column\": \"Medical\",\n      \"properties\": {\n        \"dtype\": \"boolean\",\n        \"num_unique_values\": 2,\n        \"samples\": [\n          true,\n          false\n        ],\n        \"semantic_type\": \"\",\n        \"description\": \"\"\n      }\n    },\n    {\n      \"column\": \"Technology\",\n      \"properties\": {\n        \"dtype\": \"boolean\",\n        \"num_unique_values\": 2,\n        \"samples\": [\n          false,\n          true\n        ],\n        \"semantic_type\": \"\",\n        \"description\": \"\"\n      }\n    }\n  ]\n}"
            }
          },
          "metadata": {},
          "execution_count": 18
        }
      ]
    },
    {
      "cell_type": "code",
      "metadata": {
        "id": "u0hY9xX-lyxr"
      },
      "source": [
        "# Get data as array\n",
        "title = d_new['News Title'].values\n",
        "label = d_new[category.columns].values\n",
        "title_train, title_test, y_train, y_test = train_test_split(title, label, test_size=0.2, random_state=42)"
      ],
      "execution_count": 19,
      "outputs": []
    },
    {
      "cell_type": "code",
      "metadata": {
        "id": "j0xJDisdlyx4"
      },
      "source": [
        "# Mark the uncategorized words as -\n",
        "# Don't let the test data be fitted also (dont let test data know the train data)\n",
        "tokenizer = Tokenizer(num_words=None, oov_token='-')\n",
        "tokenizer.fit_on_texts(title_train)\n",
        "\n",
        "sekuens_train = tokenizer.texts_to_sequences(title_train)\n",
        "sekuens_test = tokenizer.texts_to_sequences(title_test)\n",
        "\n",
        "padded_train = pad_sequences(sekuens_train)\n",
        "padded_test = pad_sequences(sekuens_test)"
      ],
      "execution_count": 20,
      "outputs": []
    },
    {
      "cell_type": "code",
      "metadata": {
        "colab": {
          "base_uri": "https://localhost:8080/"
        },
        "id": "fb2557b9",
        "outputId": "bdf40d48-1693-4511-b760-d6c46ea1479c"
      },
      "source": [
        "# As reminder to the shape of the padded_train\n",
        "sekuens_train[:5], padded_train"
      ],
      "execution_count": 21,
      "outputs": [
        {
          "output_type": "execute_result",
          "data": {
            "text/plain": [
              "([[2220, 1073, 10718, 216, 4121, 110],\n",
              "  [512, 1660, 439, 1571, 6372, 7911, 6373],\n",
              "  [15, 371, 26, 2079, 500],\n",
              "  [1491, 13, 36, 5022, 1760, 3917, 145],\n",
              "  [22, 21, 67, 34, 540, 501, 10719, 716, 2338, 2589]],\n",
              " array([[   0,    0,    0, ...,  216, 4121,  110],\n",
              "        [   0,    0,    0, ..., 6372, 7911, 6373],\n",
              "        [   0,    0,    0, ...,   26, 2079,  500],\n",
              "        ...,\n",
              "        [   0,    0,    0, ...,  107,  111,  222],\n",
              "        [   0,    0,    0, ..., 1292, 7118,  410],\n",
              "        [   0,    0,    0, ..., 1061,  882,   14]], dtype=int32))"
            ]
          },
          "metadata": {},
          "execution_count": 21
        }
      ]
    },
    {
      "cell_type": "code",
      "metadata": {
        "colab": {
          "base_uri": "https://localhost:8080/"
        },
        "id": "4aZ-wrzpoPl_",
        "outputId": "c9e26366-7499-49a5-f18c-3d141449b0bc"
      },
      "source": [
        "# Length of each tokenized data\n",
        "# The size of input nodes, or input length in embedding layer (if use flatten after that) (use train)\n",
        "len(padded_train[1]), len(padded_test[1])"
      ],
      "execution_count": 25,
      "outputs": [
        {
          "output_type": "execute_result",
          "data": {
            "text/plain": [
              "(101, 13)"
            ]
          },
          "metadata": {},
          "execution_count": 25
        }
      ]
    },
    {
      "cell_type": "code",
      "metadata": {
        "id": "ojh3pjgDoR1W",
        "colab": {
          "base_uri": "https://localhost:8080/"
        },
        "outputId": "d1c05701-ef72-4aa1-bb18-7f6119818296"
      },
      "source": [
        "## Length of the data\n",
        "len(padded_train), len(padded_test)"
      ],
      "execution_count": 26,
      "outputs": [
        {
          "output_type": "execute_result",
          "data": {
            "text/plain": [
              "(41600, 10400)"
            ]
          },
          "metadata": {},
          "execution_count": 26
        }
      ]
    },
    {
      "cell_type": "code",
      "metadata": {
        "colab": {
          "base_uri": "https://localhost:8080/"
        },
        "id": "618e8483",
        "outputId": "d9d6b600-f738-4c92-e48a-268cf5b9f752"
      },
      "source": [
        "# Check word index of the tokenized data\n",
        "print(dict(list(tokenizer.word_index.items())[:30]))"
      ],
      "execution_count": 27,
      "outputs": [
        {
          "output_type": "stream",
          "name": "stdout",
          "text": [
            "{'-': 1, 'new': 2, 'us': 3, 'not': 4, 'google': 5, 'apple': 6, 'video': 7, 'says': 8, 'first': 9, 'samsung': 10, 'may': 11, 'one': 12, 'facebook': 13, 'report': 14, 'microsoft': 15, 'star': 16, 'watch': 17, 'galaxy': 18, 'china': 19, 'day': 20, 'kardashian': 21, 'kim': 22, 'season': 23, 'review': 24, 'but': 25, 'deal': 26, 'million': 27, 'game': 28, 'amazon': 29, 'world': 30}\n"
          ]
        }
      ]
    },
    {
      "cell_type": "code",
      "metadata": {
        "colab": {
          "base_uri": "https://localhost:8080/"
        },
        "id": "853e46b7",
        "outputId": "ad9a35f5-202c-4d2d-e929-3e31b3cf4cae"
      },
      "source": [
        "# Richness of the words\n",
        "len(tokenizer.word_index)"
      ],
      "execution_count": 28,
      "outputs": [
        {
          "output_type": "execute_result",
          "data": {
            "text/plain": [
              "21943"
            ]
          },
          "metadata": {},
          "execution_count": 28
        }
      ]
    },
    {
      "cell_type": "markdown",
      "metadata": {
        "id": "uRsLPM-zM4z9"
      },
      "source": [
        "https://towardsdatascience.com/choosing-the-right-hyperparameters-for-a-simple-lstm-using-keras-f8e9ed76f046"
      ]
    },
    {
      "cell_type": "code",
      "metadata": {
        "colab": {
          "base_uri": "https://localhost:8080/"
        },
        "id": "_SLTGg1dFgig",
        "outputId": "33063dbc-2892-4e58-ce2d-a12cf16f5aff"
      },
      "source": [
        "# to decide LSTM hidden nodes\n",
        "hidden_nodes = int(2/3 * (len(padded_train[1]) * len(category.columns)))\n",
        "hidden_nodes"
      ],
      "execution_count": 29,
      "outputs": [
        {
          "output_type": "execute_result",
          "data": {
            "text/plain": [
              "269"
            ]
          },
          "metadata": {},
          "execution_count": 29
        }
      ]
    },
    {
      "cell_type": "markdown",
      "metadata": {
        "id": "dFNwVYoIFLaZ"
      },
      "source": [
        "https://stats.stackexchange.com/questions/181/how-to-choose-the-number-of-hidden-layers-and-nodes-in-a-feedforward-neural-netw/136542#136542"
      ]
    },
    {
      "cell_type": "code",
      "metadata": {
        "id": "BgkChOpDov7w",
        "colab": {
          "base_uri": "https://localhost:8080/"
        },
        "outputId": "901a6ceb-1ad5-408f-d059-2759b95352d0"
      },
      "source": [
        "# another way to decide LSTM hidden nodes\n",
        "# alpha 5-10, some say its 2-10\n",
        "alpha = 10\n",
        "hidden_nodes = int(len(padded_train)/(alpha*(len(padded_train[1]) * len(category.columns))))\n",
        "hidden_nodes"
      ],
      "execution_count": 31,
      "outputs": [
        {
          "output_type": "execute_result",
          "data": {
            "text/plain": [
              "10"
            ]
          },
          "metadata": {},
          "execution_count": 31
        }
      ]
    },
    {
      "cell_type": "markdown",
      "metadata": {
        "id": "ec5a9ddd"
      },
      "source": [
        "https://stats.stackexchange.com/questions/270546/how-does-keras-embedding-layer-work\n",
        "\n",
        "https://forums.fast.ai/t/embedding-layer-size-rule/50691/13"
      ]
    },
    {
      "cell_type": "code",
      "metadata": {
        "id": "deafda1d"
      },
      "source": [
        "# Let the indicator that has been scrutinized kept as markdown\n",
        "# Note for myself: Next time, document all the tries with a train-val-loss-accuracy plot, each trial attach the model code\n",
        "model = tf.keras.Sequential([\n",
        "    tf.keras.layers.Embedding(input_dim=len(tokenizer.word_index)+1, output_dim=500),#(input_dim=len(tokenizer.word_index)+2, output_dim=500),\n",
        "    tf.keras.layers.LSTM(hidden_nodes, dropout=0.96),#, kernel_regularizer=tf.keras.regularizers.l2(0.01)),#, recurrent_dropout=0.3),\n",
        "    # tf.keras.layers.Dropout(0.5),\n",
        "    # tf.keras.layers.Dense(56, activation='relu'),\n",
        "    # tf.keras.layers.Dropout(0.5),\n",
        "    # tf.keras.layers.Dense(16, activation='relu'),\n",
        "    # tf.keras.layers.Dropout(0.3),\n",
        "    tf.keras.layers.Dense(4, activation='softmax')\n",
        "])\n",
        "model.compile(loss='categorical_crossentropy',optimizer='adam',metrics=['accuracy'])"
      ],
      "execution_count": 32,
      "outputs": []
    },
    {
      "cell_type": "code",
      "source": [
        "# Let the indicator that has been scrutinized kept as markdown\n",
        "# Note for myself: Next time, document all the tries with a train-val-loss-accuracy plot, each trial attach the model code\n",
        "model = tf.keras.Sequential([\n",
        "    tf.keras.layers.Embedding(input_dim=len(tokenizer.word_index)+1, output_dim=500),\n",
        "    tf.keras.layers.LSTM(hidden_nodes, dropout=0.96),\n",
        "    tf.keras.layers.Dense(4, activation='softmax')\n",
        "])\n",
        "model.compile(loss='categorical_crossentropy',optimizer='adam',metrics=['accuracy'])"
      ],
      "metadata": {
        "id": "KlKVfFLP-no0"
      },
      "execution_count": null,
      "outputs": []
    },
    {
      "cell_type": "code",
      "metadata": {
        "colab": {
          "base_uri": "https://localhost:8080/"
        },
        "id": "vFR7kJmrvazB",
        "outputId": "9b94f675-50d6-4012-8a53-a439731fe717"
      },
      "source": [
        "set_callback = tf.keras.callbacks.EarlyStopping(monitor='val_accuracy', patience=10)\n",
        "\n",
        "history = model.fit(padded_train, y_train, epochs=60, batch_size=128,\n",
        "                    validation_data=(padded_test, y_test), callbacks=[set_callback], verbose=2)"
      ],
      "execution_count": 33,
      "outputs": [
        {
          "output_type": "stream",
          "name": "stdout",
          "text": [
            "Epoch 1/60\n",
            "325/325 - 13s - 40ms/step - accuracy: 0.5475 - loss: 1.0653 - val_accuracy: 0.7309 - val_loss: 0.7045\n",
            "Epoch 2/60\n",
            "325/325 - 15s - 46ms/step - accuracy: 0.7914 - loss: 0.5668 - val_accuracy: 0.8198 - val_loss: 0.5077\n",
            "Epoch 3/60\n",
            "325/325 - 5s - 14ms/step - accuracy: 0.8541 - loss: 0.4206 - val_accuracy: 0.8536 - val_loss: 0.4223\n",
            "Epoch 4/60\n",
            "325/325 - 5s - 17ms/step - accuracy: 0.8776 - loss: 0.3548 - val_accuracy: 0.8638 - val_loss: 0.3870\n",
            "Epoch 5/60\n",
            "325/325 - 5s - 15ms/step - accuracy: 0.8910 - loss: 0.3160 - val_accuracy: 0.8721 - val_loss: 0.3703\n",
            "Epoch 6/60\n",
            "325/325 - 5s - 15ms/step - accuracy: 0.9031 - loss: 0.2828 - val_accuracy: 0.8779 - val_loss: 0.3505\n",
            "Epoch 7/60\n",
            "325/325 - 5s - 16ms/step - accuracy: 0.9098 - loss: 0.2653 - val_accuracy: 0.8803 - val_loss: 0.3445\n",
            "Epoch 8/60\n",
            "325/325 - 5s - 14ms/step - accuracy: 0.9166 - loss: 0.2478 - val_accuracy: 0.8913 - val_loss: 0.3273\n",
            "Epoch 9/60\n",
            "325/325 - 5s - 14ms/step - accuracy: 0.9206 - loss: 0.2343 - val_accuracy: 0.8887 - val_loss: 0.3236\n",
            "Epoch 10/60\n",
            "325/325 - 6s - 17ms/step - accuracy: 0.9242 - loss: 0.2233 - val_accuracy: 0.8922 - val_loss: 0.3183\n",
            "Epoch 11/60\n",
            "325/325 - 5s - 15ms/step - accuracy: 0.9283 - loss: 0.2132 - val_accuracy: 0.8931 - val_loss: 0.3133\n",
            "Epoch 12/60\n",
            "325/325 - 5s - 16ms/step - accuracy: 0.9305 - loss: 0.2052 - val_accuracy: 0.8964 - val_loss: 0.3085\n",
            "Epoch 13/60\n",
            "325/325 - 5s - 15ms/step - accuracy: 0.9345 - loss: 0.1954 - val_accuracy: 0.8983 - val_loss: 0.3058\n",
            "Epoch 14/60\n",
            "325/325 - 5s - 15ms/step - accuracy: 0.9348 - loss: 0.1922 - val_accuracy: 0.8975 - val_loss: 0.3021\n",
            "Epoch 15/60\n",
            "325/325 - 5s - 16ms/step - accuracy: 0.9368 - loss: 0.1873 - val_accuracy: 0.9006 - val_loss: 0.2983\n",
            "Epoch 16/60\n",
            "325/325 - 5s - 14ms/step - accuracy: 0.9400 - loss: 0.1779 - val_accuracy: 0.9011 - val_loss: 0.3043\n",
            "Epoch 17/60\n",
            "325/325 - 5s - 15ms/step - accuracy: 0.9414 - loss: 0.1750 - val_accuracy: 0.9008 - val_loss: 0.3087\n",
            "Epoch 18/60\n",
            "325/325 - 5s - 16ms/step - accuracy: 0.9419 - loss: 0.1705 - val_accuracy: 0.9003 - val_loss: 0.2994\n",
            "Epoch 19/60\n",
            "325/325 - 5s - 15ms/step - accuracy: 0.9446 - loss: 0.1648 - val_accuracy: 0.8993 - val_loss: 0.3063\n",
            "Epoch 20/60\n",
            "325/325 - 5s - 16ms/step - accuracy: 0.9459 - loss: 0.1602 - val_accuracy: 0.9008 - val_loss: 0.3020\n",
            "Epoch 21/60\n",
            "325/325 - 10s - 30ms/step - accuracy: 0.9476 - loss: 0.1544 - val_accuracy: 0.9029 - val_loss: 0.2974\n",
            "Epoch 22/60\n",
            "325/325 - 5s - 16ms/step - accuracy: 0.9467 - loss: 0.1559 - val_accuracy: 0.9024 - val_loss: 0.2978\n",
            "Epoch 23/60\n",
            "325/325 - 5s - 14ms/step - accuracy: 0.9498 - loss: 0.1494 - val_accuracy: 0.9050 - val_loss: 0.2937\n",
            "Epoch 24/60\n",
            "325/325 - 5s - 16ms/step - accuracy: 0.9500 - loss: 0.1508 - val_accuracy: 0.9029 - val_loss: 0.2939\n",
            "Epoch 25/60\n",
            "325/325 - 5s - 16ms/step - accuracy: 0.9512 - loss: 0.1465 - val_accuracy: 0.9032 - val_loss: 0.2910\n",
            "Epoch 26/60\n",
            "325/325 - 5s - 14ms/step - accuracy: 0.9492 - loss: 0.1463 - val_accuracy: 0.9065 - val_loss: 0.2867\n",
            "Epoch 27/60\n",
            "325/325 - 5s - 16ms/step - accuracy: 0.9532 - loss: 0.1375 - val_accuracy: 0.9059 - val_loss: 0.3010\n",
            "Epoch 28/60\n",
            "325/325 - 10s - 31ms/step - accuracy: 0.9544 - loss: 0.1357 - val_accuracy: 0.9047 - val_loss: 0.2959\n",
            "Epoch 29/60\n",
            "325/325 - 5s - 16ms/step - accuracy: 0.9530 - loss: 0.1345 - val_accuracy: 0.9014 - val_loss: 0.3078\n",
            "Epoch 30/60\n",
            "325/325 - 5s - 14ms/step - accuracy: 0.9566 - loss: 0.1318 - val_accuracy: 0.9064 - val_loss: 0.2906\n",
            "Epoch 31/60\n",
            "325/325 - 5s - 16ms/step - accuracy: 0.9568 - loss: 0.1307 - val_accuracy: 0.9059 - val_loss: 0.2957\n",
            "Epoch 32/60\n",
            "325/325 - 5s - 15ms/step - accuracy: 0.9567 - loss: 0.1278 - val_accuracy: 0.9077 - val_loss: 0.2995\n",
            "Epoch 33/60\n",
            "325/325 - 5s - 14ms/step - accuracy: 0.9557 - loss: 0.1287 - val_accuracy: 0.9022 - val_loss: 0.3020\n",
            "Epoch 34/60\n",
            "325/325 - 5s - 16ms/step - accuracy: 0.9568 - loss: 0.1268 - val_accuracy: 0.9078 - val_loss: 0.2891\n",
            "Epoch 35/60\n",
            "325/325 - 10s - 30ms/step - accuracy: 0.9580 - loss: 0.1230 - val_accuracy: 0.9077 - val_loss: 0.2913\n",
            "Epoch 36/60\n",
            "325/325 - 5s - 16ms/step - accuracy: 0.9588 - loss: 0.1218 - val_accuracy: 0.9085 - val_loss: 0.3017\n",
            "Epoch 37/60\n",
            "325/325 - 11s - 32ms/step - accuracy: 0.9595 - loss: 0.1209 - val_accuracy: 0.9072 - val_loss: 0.2961\n",
            "Epoch 38/60\n",
            "325/325 - 10s - 30ms/step - accuracy: 0.9594 - loss: 0.1196 - val_accuracy: 0.9074 - val_loss: 0.2964\n",
            "Epoch 39/60\n",
            "325/325 - 5s - 16ms/step - accuracy: 0.9594 - loss: 0.1183 - val_accuracy: 0.9089 - val_loss: 0.2943\n",
            "Epoch 40/60\n",
            "325/325 - 10s - 32ms/step - accuracy: 0.9604 - loss: 0.1165 - val_accuracy: 0.9081 - val_loss: 0.2983\n",
            "Epoch 41/60\n",
            "325/325 - 10s - 30ms/step - accuracy: 0.9615 - loss: 0.1139 - val_accuracy: 0.9087 - val_loss: 0.2966\n",
            "Epoch 42/60\n",
            "325/325 - 5s - 17ms/step - accuracy: 0.9619 - loss: 0.1143 - val_accuracy: 0.9046 - val_loss: 0.3053\n",
            "Epoch 43/60\n",
            "325/325 - 10s - 32ms/step - accuracy: 0.9633 - loss: 0.1102 - val_accuracy: 0.9071 - val_loss: 0.2944\n",
            "Epoch 44/60\n",
            "325/325 - 10s - 29ms/step - accuracy: 0.9617 - loss: 0.1121 - val_accuracy: 0.9091 - val_loss: 0.2986\n",
            "Epoch 45/60\n",
            "325/325 - 5s - 16ms/step - accuracy: 0.9613 - loss: 0.1126 - val_accuracy: 0.9107 - val_loss: 0.2982\n",
            "Epoch 46/60\n",
            "325/325 - 10s - 31ms/step - accuracy: 0.9635 - loss: 0.1094 - val_accuracy: 0.9096 - val_loss: 0.2989\n",
            "Epoch 47/60\n",
            "325/325 - 5s - 15ms/step - accuracy: 0.9650 - loss: 0.1064 - val_accuracy: 0.9083 - val_loss: 0.3033\n",
            "Epoch 48/60\n",
            "325/325 - 5s - 14ms/step - accuracy: 0.9641 - loss: 0.1074 - val_accuracy: 0.9076 - val_loss: 0.3099\n",
            "Epoch 49/60\n",
            "325/325 - 5s - 16ms/step - accuracy: 0.9644 - loss: 0.1052 - val_accuracy: 0.9062 - val_loss: 0.3029\n",
            "Epoch 50/60\n",
            "325/325 - 10s - 30ms/step - accuracy: 0.9639 - loss: 0.1058 - val_accuracy: 0.9071 - val_loss: 0.3144\n",
            "Epoch 51/60\n",
            "325/325 - 5s - 17ms/step - accuracy: 0.9647 - loss: 0.1030 - val_accuracy: 0.9040 - val_loss: 0.3111\n",
            "Epoch 52/60\n",
            "325/325 - 5s - 14ms/step - accuracy: 0.9643 - loss: 0.1057 - val_accuracy: 0.9083 - val_loss: 0.3003\n",
            "Epoch 53/60\n",
            "325/325 - 5s - 17ms/step - accuracy: 0.9647 - loss: 0.1065 - val_accuracy: 0.9093 - val_loss: 0.2931\n",
            "Epoch 54/60\n",
            "325/325 - 10s - 29ms/step - accuracy: 0.9656 - loss: 0.1025 - val_accuracy: 0.9068 - val_loss: 0.3080\n",
            "Epoch 55/60\n",
            "325/325 - 5s - 16ms/step - accuracy: 0.9645 - loss: 0.1028 - val_accuracy: 0.9069 - val_loss: 0.3042\n"
          ]
        }
      ]
    },
    {
      "cell_type": "code",
      "metadata": {
        "id": "mKTc_uA_1_qj",
        "colab": {
          "base_uri": "https://localhost:8080/",
          "height": 564
        },
        "outputId": "e3859cca-9f1c-4caa-ecd7-5ddd902eae9e"
      },
      "source": [
        "# Plotting loss and accuracy, train and validation, each epoch\n",
        "pd.DataFrame(history.history).plot(figsize=(9,6))\n",
        "plt.xlabel('Epoch')\n",
        "plt.title('Accuracy and Loss Graph')\n",
        "plt.grid()"
      ],
      "execution_count": 34,
      "outputs": [
        {
          "output_type": "display_data",
          "data": {
            "text/plain": [
              "<Figure size 900x600 with 1 Axes>"
            ],
            "image/png": "[encoded data removed]"
          },
          "metadata": {}
        }
      ]
    },
    {
      "cell_type": "code",
      "source": [
        "model.predict(padded_test[0].reshape(1,len(padded_test[0])))"
      ],
      "metadata": {
        "colab": {
          "base_uri": "https://localhost:8080/"
        },
        "id": "Q0lSWq688WtJ",
        "outputId": "d5a7e42a-61d6-4eef-f18b-1ff5bd115cbe"
      },
      "execution_count": 46,
      "outputs": [
        {
          "output_type": "stream",
          "name": "stdout",
          "text": [
            "\u001b[1m1/1\u001b[0m \u001b[32m━━━━━━━━━━━━━━━━━━━━\u001b[0m\u001b[37m\u001b[0m \u001b[1m0s\u001b[0m 180ms/step\n"
          ]
        },
        {
          "output_type": "execute_result",
          "data": {
            "text/plain": [
              "array([[2.4133088e-04, 9.9952650e-01, 1.0081673e-04, 1.3144391e-04]],\n",
              "      dtype=float32)"
            ]
          },
          "metadata": {},
          "execution_count": 46
        }
      ]
    },
    {
      "cell_type": "code",
      "source": [
        "padded_test[0].reshape(1,len(padded_test[0]))"
      ],
      "metadata": {
        "colab": {
          "base_uri": "https://localhost:8080/"
        },
        "id": "PoVIXpyT8fLR",
        "outputId": "830a8699-3b32-4a8f-fa39-21653beb03e6"
      },
      "execution_count": 47,
      "outputs": [
        {
          "output_type": "execute_result",
          "data": {
            "text/plain": [
              "array([[    0,     0,     0,     1,     1,     1,     1,  4389,  2206,\n",
              "        16135,  2570,  4928, 12775]], dtype=int32)"
            ]
          },
          "metadata": {},
          "execution_count": 47
        }
      ]
    },
    {
      "cell_type": "code",
      "source": [
        "title_test[0]"
      ],
      "metadata": {
        "colab": {
          "base_uri": "https://localhost:8080/",
          "height": 36
        },
        "id": "JCoopBm39mh_",
        "outputId": "31195f83-d40a-4714-c271-6fed707d3c60"
      },
      "execution_count": 49,
      "outputs": [
        {
          "output_type": "execute_result",
          "data": {
            "text/plain": [
              "'kors blimey freida pinto stuns nude feathered designer gown saint'"
            ],
            "application/vnd.google.colaboratory.intrinsic+json": {
              "type": "string"
            }
          },
          "metadata": {},
          "execution_count": 49
        }
      ]
    },
    {
      "cell_type": "code",
      "source": [
        "y_test[0]"
      ],
      "metadata": {
        "colab": {
          "base_uri": "https://localhost:8080/"
        },
        "id": "LbC8yaHn8xxr",
        "outputId": "2ed839ef-1a5e-415d-874b-6e7fe654d92c"
      },
      "execution_count": 50,
      "outputs": [
        {
          "output_type": "execute_result",
          "data": {
            "text/plain": [
              "array([False,  True, False, False])"
            ]
          },
          "metadata": {},
          "execution_count": 50
        }
      ]
    },
    {
      "cell_type": "markdown",
      "source": [
        "Which is true that the second is True and highest at probability"
      ],
      "metadata": {
        "id": "HbbNIzjk9qFK"
      }
    }
  ]
}